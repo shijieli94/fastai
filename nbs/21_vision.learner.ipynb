{
 "cells": [
  {
   "cell_type": "code",
   "execution_count": null,
   "metadata": {},
   "outputs": [],
   "source": [
    "# |hide\n",
    "# | eval: false\n",
    "! [ -e /content ] && pip install -Uqq fastai  # upgrade fastai on colab"
   ]
  },
  {
   "cell_type": "code",
   "execution_count": null,
   "metadata": {},
   "outputs": [],
   "source": [
    "# |export\n",
    "from __future__ import annotations\n",
    "from packaging.version import parse\n",
    "\n",
    "from fastai.basics import *\n",
    "from fastai.vision.core import *\n",
    "from fastai.vision.data import *\n",
    "from fastai.vision.augment import *\n",
    "from fastai.vision import models\n",
    "\n",
    "import torchvision\n",
    "\n",
    "try:\n",
    "    import timm\n",
    "except ModuleNotFoundError:\n",
    "    pass"
   ]
  },
  {
   "cell_type": "code",
   "execution_count": null,
   "metadata": {},
   "outputs": [],
   "source": [
    "# |default_exp vision.learner"
   ]
  },
  {
   "cell_type": "code",
   "execution_count": null,
   "metadata": {},
   "outputs": [],
   "source": [
    "# |hide\n",
    "from nbdev.showdoc import *"
   ]
  },
  {
   "cell_type": "markdown",
   "metadata": {},
   "source": [
    "# Vision learner\n",
    "\n",
    "> All the functions necessary to build `Learner` suitable for transfer learning in computer vision"
   ]
  },
  {
   "cell_type": "markdown",
   "metadata": {},
   "source": [
    "The most important functions of this module are `vision_learner` and `unet_learner`. They will help you define a `Learner` using a pretrained model. See the [vision tutorial](23_tutorial.vision.ipynb) for examples of use."
   ]
  },
  {
   "cell_type": "markdown",
   "metadata": {},
   "source": [
    "## Cut a pretrained model"
   ]
  },
  {
   "cell_type": "code",
   "execution_count": null,
   "metadata": {},
   "outputs": [],
   "source": [
    "# |export\n",
    "def _is_pool_type(l):\n",
    "    return re.search(r\"Pool[123]d$\", l.__class__.__name__)"
   ]
  },
  {
   "cell_type": "code",
   "execution_count": null,
   "metadata": {},
   "outputs": [],
   "source": [
    "# |hide\n",
    "m = nn.Sequential(\n",
    "    nn.AdaptiveAvgPool2d(5), nn.Linear(2, 3), nn.Conv2d(2, 3, 1), nn.MaxPool3d(5)\n",
    ")\n",
    "test_eq([bool(_is_pool_type(m_)) for m_ in m.children()], [True, False, False, True])"
   ]
  },
  {
   "cell_type": "markdown",
   "metadata": {},
   "source": [
    "By default, the fastai library cuts a pretrained model at the pooling layer. This function helps detecting it. "
   ]
  },
  {
   "cell_type": "code",
   "execution_count": null,
   "metadata": {},
   "outputs": [],
   "source": [
    "# |export\n",
    "def has_pool_type(m):\n",
    "    \"Return `True` if `m` is a pooling layer or has one in its children\"\n",
    "    if _is_pool_type(m):\n",
    "        return True\n",
    "    for l in m.children():\n",
    "        if has_pool_type(l):\n",
    "            return True\n",
    "    return False"
   ]
  },
  {
   "cell_type": "code",
   "execution_count": null,
   "metadata": {},
   "outputs": [],
   "source": [
    "m = nn.Sequential(\n",
    "    nn.AdaptiveAvgPool2d(5), nn.Linear(2, 3), nn.Conv2d(2, 3, 1), nn.MaxPool3d(5)\n",
    ")\n",
    "assert has_pool_type(m)\n",
    "test_eq([has_pool_type(m_) for m_ in m.children()], [True, False, False, True])"
   ]
  },
  {
   "cell_type": "code",
   "execution_count": null,
   "metadata": {},
   "outputs": [],
   "source": [
    "# |export\n",
    "def _get_first_layer(m):\n",
    "    \"Access first layer of a model\"\n",
    "    c, p, n = m, None, None  # child, parent, name\n",
    "    for n in next(m.named_parameters())[0].split(\".\")[:-1]:\n",
    "        p, c = c, getattr(c, n)\n",
    "    return c, p, n"
   ]
  },
  {
   "cell_type": "code",
   "execution_count": null,
   "metadata": {},
   "outputs": [],
   "source": [
    "# |export\n",
    "def _load_pretrained_weights(new_layer, previous_layer):\n",
    "    \"Load pretrained weights based on number of input channels\"\n",
    "    n_in = getattr(new_layer, \"in_channels\")\n",
    "    if n_in == 1:\n",
    "        # we take the sum\n",
    "        new_layer.weight.data = previous_layer.weight.data.sum(dim=1, keepdim=True)\n",
    "    elif n_in == 2:\n",
    "        # we take first 2 channels + 50%\n",
    "        new_layer.weight.data = previous_layer.weight.data[:, :2] * 1.5\n",
    "    else:\n",
    "        # keep 3 channels weights and set others to null\n",
    "        new_layer.weight.data[:, :3] = previous_layer.weight.data\n",
    "        new_layer.weight.data[:, 3:].zero_()"
   ]
  },
  {
   "cell_type": "code",
   "execution_count": null,
   "metadata": {},
   "outputs": [],
   "source": [
    "# |export\n",
    "def _update_first_layer(model, n_in, pretrained):\n",
    "    \"Change first layer based on number of input channels\"\n",
    "    if n_in == 3:\n",
    "        return\n",
    "    first_layer, parent, name = _get_first_layer(model)\n",
    "    assert isinstance(\n",
    "        first_layer, nn.Conv2d\n",
    "    ), f\"Change of input channels only supported with Conv2d, found {first_layer.__class__.__name__}\"\n",
    "    assert (\n",
    "        getattr(first_layer, \"in_channels\") == 3\n",
    "    ), f'Unexpected number of input channels, found {getattr(first_layer, \"in_channels\")} while expecting 3'\n",
    "    params = {\n",
    "        attr: getattr(first_layer, attr)\n",
    "        for attr in \"out_channels kernel_size stride padding dilation groups padding_mode\".split()\n",
    "    }\n",
    "    params[\"bias\"] = getattr(first_layer, \"bias\") is not None\n",
    "    params[\"in_channels\"] = n_in\n",
    "    new_layer = nn.Conv2d(**params)\n",
    "    if pretrained:\n",
    "        _load_pretrained_weights(new_layer, first_layer)\n",
    "    setattr(parent, name, new_layer)"
   ]
  },
  {
   "cell_type": "code",
   "execution_count": null,
   "metadata": {},
   "outputs": [],
   "source": [
    "# |export\n",
    "def cut_model(model, cut):\n",
    "    \"Cut an instantiated model\"\n",
    "    if isinstance(cut, int):\n",
    "        return nn.Sequential(*list(model.children())[:cut])\n",
    "    elif callable(cut):\n",
    "        return cut(model)\n",
    "    raise NameError(\"cut must be either integer or a function\")"
   ]
  },
  {
   "cell_type": "code",
   "execution_count": null,
   "metadata": {},
   "outputs": [],
   "source": [
    "# |export\n",
    "def create_body(model, n_in=3, pretrained=True, cut=None):\n",
    "    \"Cut off the body of a typically pretrained `arch` as determined by `cut`\"\n",
    "    _update_first_layer(model, n_in, pretrained)\n",
    "    if cut is None:\n",
    "        ll = list(enumerate(model.children()))\n",
    "        cut = next(i for i, o in reversed(ll) if has_pool_type(o))\n",
    "    return cut_model(model, cut)"
   ]
  },
  {
   "cell_type": "markdown",
   "metadata": {},
   "source": [
    "`cut` can either be an integer, in which case we cut the model at the corresponding layer, or a function, in which case, this function returns `cut(model)`. It defaults to the first layer that contains some pooling otherwise."
   ]
  },
  {
   "cell_type": "code",
   "execution_count": null,
   "metadata": {},
   "outputs": [],
   "source": [
    "def tst():\n",
    "    return nn.Sequential(\n",
    "        nn.Conv2d(3, 5, 3), nn.BatchNorm2d(5), nn.AvgPool2d(1), nn.Linear(3, 4)\n",
    "    )\n",
    "\n",
    "\n",
    "m = create_body(tst())\n",
    "test_eq(len(m), 2)\n",
    "\n",
    "m = create_body(tst(), cut=3)\n",
    "test_eq(len(m), 3)\n",
    "\n",
    "m = create_body(tst(), cut=noop)\n",
    "test_eq(len(m), 4)\n",
    "\n",
    "for n in range(1, 5):\n",
    "    m = create_body(tst(), n_in=n)\n",
    "    test_eq(_get_first_layer(m)[0].in_channels, n)"
   ]
  },
  {
   "cell_type": "markdown",
   "metadata": {},
   "source": [
    "## Head and model"
   ]
  },
  {
   "cell_type": "code",
   "execution_count": null,
   "metadata": {},
   "outputs": [],
   "source": [
    "# |export\n",
    "def create_head(\n",
    "    nf,\n",
    "    n_out,\n",
    "    lin_ftrs=None,\n",
    "    ps=0.5,\n",
    "    pool=True,\n",
    "    concat_pool=True,\n",
    "    first_bn=True,\n",
    "    bn_final=False,\n",
    "    lin_first=False,\n",
    "    y_range=None,\n",
    "):\n",
    "    \"Model head that takes `nf` features, runs through `lin_ftrs`, and out `n_out` classes.\"\n",
    "    if pool and concat_pool:\n",
    "        nf *= 2\n",
    "    lin_ftrs = [nf, 512, n_out] if lin_ftrs is None else [nf] + lin_ftrs + [n_out]\n",
    "    bns = [first_bn] + [True] * len(lin_ftrs[1:])\n",
    "    ps = L(ps)\n",
    "    if len(ps) == 1:\n",
    "        ps = [ps[0] / 2] * (len(lin_ftrs) - 2) + ps\n",
    "    actns = [nn.ReLU(inplace=True)] * (len(lin_ftrs) - 2) + [None]\n",
    "    layers = []\n",
    "    if pool:\n",
    "        pool = AdaptiveConcatPool2d() if concat_pool else nn.AdaptiveAvgPool2d(1)\n",
    "        layers += [pool, Flatten()]\n",
    "    if lin_first:\n",
    "        layers.append(nn.Dropout(ps.pop(0)))\n",
    "    for ni, no, bn, p, actn in zip(lin_ftrs[:-1], lin_ftrs[1:], bns, ps, actns):\n",
    "        layers += LinBnDrop(ni, no, bn=bn, p=p, act=actn, lin_first=lin_first)\n",
    "    if lin_first:\n",
    "        layers.append(nn.Linear(lin_ftrs[-2], n_out))\n",
    "    if bn_final:\n",
    "        layers.append(nn.BatchNorm1d(lin_ftrs[-1], momentum=0.01))\n",
    "    if y_range is not None:\n",
    "        layers.append(SigmoidRange(*y_range))\n",
    "    return nn.Sequential(*layers)"
   ]
  },
  {
   "cell_type": "markdown",
   "metadata": {},
   "source": [
    "The head begins with fastai's `AdaptiveConcatPool2d` if `concat_pool=True` otherwise, it uses traditional average pooling. Then it uses a `Flatten` layer before going on blocks of `BatchNorm`, `Dropout` and `Linear` layers (if `lin_first=True`, those are `Linear`, `BatchNorm`, `Dropout`).\n",
    "\n",
    "Those blocks start at `nf`, then every element of `lin_ftrs` (defaults to `[512]`) and end at `n_out`. `ps` is a list of probabilities used for the dropouts (if you only pass 1, it will use half the value then that value as many times as necessary).\n",
    "\n",
    "If `first_bn=True`, a `BatchNorm` added just after the pooling operations. If `bn_final=True`, a final `BatchNorm` layer is added. If `y_range` is passed, the function adds a `SigmoidRange` to that range."
   ]
  },
  {
   "cell_type": "code",
   "execution_count": null,
   "metadata": {},
   "outputs": [
    {
     "data": {
      "text/plain": [
       "Sequential(\n",
       "  (0): AdaptiveConcatPool2d(\n",
       "    (ap): AdaptiveAvgPool2d(output_size=1)\n",
       "    (mp): AdaptiveMaxPool2d(output_size=1)\n",
       "  )\n",
       "  (1): fastai.layers.Flatten(full=False)\n",
       "  (2): BatchNorm1d(10, eps=1e-05, momentum=0.1, affine=True, track_running_stats=True)\n",
       "  (3): Dropout(p=0.25, inplace=False)\n",
       "  (4): Linear(in_features=10, out_features=512, bias=False)\n",
       "  (5): ReLU(inplace=True)\n",
       "  (6): BatchNorm1d(512, eps=1e-05, momentum=0.1, affine=True, track_running_stats=True)\n",
       "  (7): Dropout(p=0.5, inplace=False)\n",
       "  (8): Linear(in_features=512, out_features=10, bias=False)\n",
       ")"
      ]
     },
     "execution_count": null,
     "metadata": {},
     "output_type": "execute_result"
    }
   ],
   "source": [
    "tst = create_head(5, 10)\n",
    "tst"
   ]
  },
  {
   "cell_type": "code",
   "execution_count": null,
   "metadata": {},
   "outputs": [],
   "source": [
    "# |hide\n",
    "mods = list(tst.children())\n",
    "test_eq(len(mods), 9)\n",
    "assert isinstance(mods[2], nn.BatchNorm1d)\n",
    "assert isinstance(mods[-1], nn.Linear)\n",
    "\n",
    "tst = create_head(5, 10, lin_first=True)\n",
    "mods = list(tst.children())\n",
    "test_eq(len(mods), 8)\n",
    "assert isinstance(mods[2], nn.Dropout)\n",
    "\n",
    "tst = create_head(5, 10, first_bn=False)\n",
    "mods = list(tst.children())\n",
    "test_eq(len(mods), 8)\n",
    "assert isinstance(mods[2], nn.Dropout)\n",
    "\n",
    "tst = create_head(5, 10, concat_pool=True)\n",
    "modes = list(tst.children())\n",
    "test_eq(modes[4].in_features, 10)\n",
    "\n",
    "tst = create_head(5, 10, concat_pool=False)\n",
    "modes = list(tst.children())\n",
    "test_eq(modes[4].in_features, 5)"
   ]
  },
  {
   "cell_type": "code",
   "execution_count": null,
   "metadata": {},
   "outputs": [],
   "source": [
    "# |export\n",
    "from fastai.callback.hook import num_features_model"
   ]
  },
  {
   "cell_type": "code",
   "execution_count": null,
   "metadata": {},
   "outputs": [],
   "source": [
    "# TODO: refactor, i.e. something like this?\n",
    "# class ModelSplitter():\n",
    "#     def __init__(self, idx): self.idx = idx\n",
    "#     def split(self, m): return L(m[:self.idx], m[self.idx:]).map(params)\n",
    "#     def __call__(self,): return {'cut':self.idx, 'split':self.split}"
   ]
  },
  {
   "cell_type": "code",
   "execution_count": null,
   "metadata": {},
   "outputs": [],
   "source": [
    "# |export\n",
    "def default_split(m):\n",
    "    \"Default split of a model between body and head\"\n",
    "    return L(m[0], m[1:]).map(params)"
   ]
  },
  {
   "cell_type": "markdown",
   "metadata": {},
   "source": [
    "To do transfer learning, you need to pass a `splitter` to `Learner`. This should be a function taking the model and returning a collection of parameter groups, e.g. a list of list of parameters."
   ]
  },
  {
   "cell_type": "code",
   "execution_count": null,
   "metadata": {},
   "outputs": [],
   "source": [
    "# |export\n",
    "def _xresnet_split(m):\n",
    "    return L(m[0][:3], m[0][3:], m[1:]).map(params)\n",
    "\n",
    "\n",
    "def _resnet_split(m):\n",
    "    return L(m[0][:6], m[0][6:], m[1:]).map(params)\n",
    "\n",
    "\n",
    "def _squeezenet_split(m: nn.Module):\n",
    "    return L(m[0][0][:5], m[0][0][5:], m[1:]).map(params)\n",
    "\n",
    "\n",
    "def _densenet_split(m: nn.Module):\n",
    "    return L(m[0][0][:7], m[0][0][7:], m[1:]).map(params)\n",
    "\n",
    "\n",
    "def _vgg_split(m: nn.Module):\n",
    "    return L(m[0][0][:22], m[0][0][22:], m[1:]).map(params)\n",
    "\n",
    "\n",
    "def _alexnet_split(m: nn.Module):\n",
    "    return L(m[0][0][:6], m[0][0][6:], m[1:]).map(params)\n",
    "\n",
    "\n",
    "_default_meta = {\"cut\": None, \"split\": default_split}\n",
    "_xresnet_meta = {\"cut\": -4, \"split\": _xresnet_split, \"stats\": imagenet_stats}\n",
    "_resnet_meta = {\n",
    "    \"cut\": -2,\n",
    "    \"split\": _resnet_split,\n",
    "    \"stats\": imagenet_stats,\n",
    "    \"weights\": \"DEFAULT\",\n",
    "}\n",
    "_squeezenet_meta = {\n",
    "    \"cut\": -1,\n",
    "    \"split\": _squeezenet_split,\n",
    "    \"stats\": imagenet_stats,\n",
    "    \"weights\": \"DEFAULT\",\n",
    "}\n",
    "_densenet_meta = {\n",
    "    \"cut\": -1,\n",
    "    \"split\": _densenet_split,\n",
    "    \"stats\": imagenet_stats,\n",
    "    \"weights\": \"DEFAULT\",\n",
    "}\n",
    "_vgg_meta = {\n",
    "    \"cut\": -2,\n",
    "    \"split\": _vgg_split,\n",
    "    \"stats\": imagenet_stats,\n",
    "    \"weights\": \"DEFAULT\",\n",
    "}\n",
    "_alexnet_meta = {\n",
    "    \"cut\": -2,\n",
    "    \"split\": _alexnet_split,\n",
    "    \"stats\": imagenet_stats,\n",
    "    \"weights\": \"DEFAULT\",\n",
    "}"
   ]
  },
  {
   "cell_type": "code",
   "execution_count": null,
   "metadata": {},
   "outputs": [],
   "source": [
    "# |export\n",
    "model_meta = {\n",
    "    models.xresnet.xresnet18: {**_xresnet_meta},\n",
    "    models.xresnet.xresnet34: {**_xresnet_meta},\n",
    "    models.xresnet.xresnet50: {**_xresnet_meta},\n",
    "    models.xresnet.xresnet101: {**_xresnet_meta},\n",
    "    models.xresnet.xresnet152: {**_xresnet_meta},\n",
    "    models.resnet18: {**_resnet_meta},\n",
    "    models.resnet34: {**_resnet_meta},\n",
    "    models.resnet50: {**_resnet_meta},\n",
    "    models.resnet101: {**_resnet_meta},\n",
    "    models.resnet152: {**_resnet_meta},\n",
    "    models.squeezenet1_0: {**_squeezenet_meta},\n",
    "    models.squeezenet1_1: {**_squeezenet_meta},\n",
    "    models.densenet121: {**_densenet_meta},\n",
    "    models.densenet169: {**_densenet_meta},\n",
    "    models.densenet201: {**_densenet_meta},\n",
    "    models.densenet161: {**_densenet_meta},\n",
    "    models.vgg11_bn: {**_vgg_meta},\n",
    "    models.vgg13_bn: {**_vgg_meta},\n",
    "    models.vgg16_bn: {**_vgg_meta},\n",
    "    models.vgg19_bn: {**_vgg_meta},\n",
    "    models.alexnet: {**_alexnet_meta},\n",
    "}"
   ]
  },
  {
   "cell_type": "code",
   "execution_count": null,
   "metadata": {},
   "outputs": [],
   "source": [
    "# |export\n",
    "def add_head(\n",
    "    body,\n",
    "    nf,\n",
    "    n_out,\n",
    "    init=nn.init.kaiming_normal_,\n",
    "    head=None,\n",
    "    concat_pool=True,\n",
    "    pool=True,\n",
    "    lin_ftrs=None,\n",
    "    ps=0.5,\n",
    "    first_bn=True,\n",
    "    bn_final=False,\n",
    "    lin_first=False,\n",
    "    y_range=None,\n",
    "):\n",
    "    \"Add a head to a vision body\"\n",
    "    if head is None:\n",
    "        head = create_head(\n",
    "            nf,\n",
    "            n_out,\n",
    "            concat_pool=concat_pool,\n",
    "            pool=pool,\n",
    "            lin_ftrs=lin_ftrs,\n",
    "            ps=ps,\n",
    "            first_bn=first_bn,\n",
    "            bn_final=bn_final,\n",
    "            lin_first=lin_first,\n",
    "            y_range=y_range,\n",
    "        )\n",
    "    model = nn.Sequential(body, head)\n",
    "    if init is not None:\n",
    "        apply_init(model[1], init)\n",
    "    return model"
   ]
  },
  {
   "cell_type": "code",
   "execution_count": null,
   "metadata": {},
   "outputs": [],
   "source": [
    "# |export\n",
    "def create_vision_model(\n",
    "    arch,\n",
    "    n_out,\n",
    "    pretrained=True,\n",
    "    weights=None,\n",
    "    cut=None,\n",
    "    n_in=3,\n",
    "    init=nn.init.kaiming_normal_,\n",
    "    custom_head=None,\n",
    "    concat_pool=True,\n",
    "    pool=True,\n",
    "    lin_ftrs=None,\n",
    "    ps=0.5,\n",
    "    first_bn=True,\n",
    "    bn_final=False,\n",
    "    lin_first=False,\n",
    "    y_range=None,\n",
    "):\n",
    "    \"Create custom vision architecture\"\n",
    "    meta = model_meta.get(arch, _default_meta)\n",
    "    if parse(torchvision.__version__) >= parse(\"0.13\") and \"weights\" in meta:\n",
    "        if weights is not None and not pretrained:\n",
    "            warn(\n",
    "                f\"{pretrained=} but `weights` are set {weights=}. To randomly initialize set `pretrained=False` & `weights=None`\"\n",
    "            )\n",
    "        model = arch(\n",
    "            weights=meta[\"weights\"] if (weights is None and pretrained) else weights\n",
    "        )\n",
    "    else:\n",
    "        model = arch(pretrained=pretrained)\n",
    "    body = create_body(model, n_in, pretrained, ifnone(cut, meta[\"cut\"]))\n",
    "    nf = (\n",
    "        num_features_model(nn.Sequential(*body.children()))\n",
    "        if custom_head is None\n",
    "        else None\n",
    "    )\n",
    "    return add_head(\n",
    "        body,\n",
    "        nf,\n",
    "        n_out,\n",
    "        init=init,\n",
    "        head=custom_head,\n",
    "        concat_pool=concat_pool,\n",
    "        pool=pool,\n",
    "        lin_ftrs=lin_ftrs,\n",
    "        ps=ps,\n",
    "        first_bn=first_bn,\n",
    "        bn_final=bn_final,\n",
    "        lin_first=lin_first,\n",
    "        y_range=y_range,\n",
    "    )"
   ]
  },
  {
   "cell_type": "code",
   "execution_count": null,
   "metadata": {},
   "outputs": [
    {
     "data": {
      "text/markdown": [
       "---\n",
       "\n",
       "[source](https://github.com/fastai/fastai/blob/master/fastai/vision/learner.py#L163){target=\"_blank\" style=\"float:right; font-size:smaller\"}\n",
       "\n",
       "### create_vision_model\n",
       "\n",
       ">      create_vision_model (arch, n_out, pretrained=True, weights=None,\n",
       ">                           cut=None, n_in=3, init=<function kaiming_normal_>,\n",
       ">                           custom_head=None, concat_pool=True, pool=True,\n",
       ">                           lin_ftrs=None, ps=0.5, first_bn=True,\n",
       ">                           bn_final=False, lin_first=False, y_range=None)\n",
       "\n",
       "Create custom vision architecture"
      ],
      "text/plain": [
       "---\n",
       "\n",
       "[source](https://github.com/fastai/fastai/blob/master/fastai/vision/learner.py#L163){target=\"_blank\" style=\"float:right; font-size:smaller\"}\n",
       "\n",
       "### create_vision_model\n",
       "\n",
       ">      create_vision_model (arch, n_out, pretrained=True, weights=None,\n",
       ">                           cut=None, n_in=3, init=<function kaiming_normal_>,\n",
       ">                           custom_head=None, concat_pool=True, pool=True,\n",
       ">                           lin_ftrs=None, ps=0.5, first_bn=True,\n",
       ">                           bn_final=False, lin_first=False, y_range=None)\n",
       "\n",
       "Create custom vision architecture"
      ]
     },
     "execution_count": null,
     "metadata": {},
     "output_type": "execute_result"
    }
   ],
   "source": [
    "show_doc(create_vision_model)"
   ]
  },
  {
   "cell_type": "markdown",
   "metadata": {},
   "source": [
    "The model is cut according to `cut` and it may be `pretrained`, in which case, the proper set of weights is downloaded then loaded. `init` is applied to the head of the model, which is either created by `create_head` (with `lin_ftrs`, `ps`, `concat_pool`, `bn_final`, `lin_first` and `y_range`) or is `custom_head`."
   ]
  },
  {
   "cell_type": "code",
   "execution_count": null,
   "metadata": {},
   "outputs": [],
   "source": [
    "tst = create_vision_model(models.resnet18, 10, True)\n",
    "tst = create_vision_model(models.resnet18, 10, True, n_in=1)"
   ]
  },
  {
   "cell_type": "code",
   "execution_count": null,
   "metadata": {},
   "outputs": [],
   "source": [
    "# |export\n",
    "class TimmBody(nn.Module):\n",
    "    def __init__(self, model, pretrained: bool = True, cut=None, n_in: int = 3):\n",
    "        super().__init__()\n",
    "        self.needs_pool = model.default_cfg.get(\"pool_size\", None) is not None\n",
    "        self.model = model if cut is None else cut_model(model, cut)\n",
    "\n",
    "    def forward(self, x):\n",
    "        return self.model.forward_features(x) if self.needs_pool else self.model(x)"
   ]
  },
  {
   "cell_type": "code",
   "execution_count": null,
   "metadata": {},
   "outputs": [],
   "source": [
    "# |export\n",
    "def create_timm_model(\n",
    "    arch,\n",
    "    n_out,\n",
    "    cut=None,\n",
    "    pretrained=True,\n",
    "    n_in=3,\n",
    "    init=nn.init.kaiming_normal_,\n",
    "    custom_head=None,\n",
    "    concat_pool=True,\n",
    "    pool=True,\n",
    "    lin_ftrs=None,\n",
    "    ps=0.5,\n",
    "    first_bn=True,\n",
    "    bn_final=False,\n",
    "    lin_first=False,\n",
    "    y_range=None,\n",
    "    **kwargs\n",
    "):\n",
    "    \"Create custom architecture using `arch`, `n_in` and `n_out` from the `timm` library\"\n",
    "    model = timm.create_model(\n",
    "        arch, pretrained=pretrained, num_classes=0, in_chans=n_in, **kwargs\n",
    "    )\n",
    "    body = TimmBody(model, pretrained, None, n_in)\n",
    "    nf = body.model.num_features\n",
    "    res = add_head(\n",
    "        body,\n",
    "        nf,\n",
    "        n_out,\n",
    "        init=init,\n",
    "        head=custom_head,\n",
    "        concat_pool=concat_pool,\n",
    "        pool=body.needs_pool,\n",
    "        lin_ftrs=lin_ftrs,\n",
    "        ps=ps,\n",
    "        first_bn=first_bn,\n",
    "        bn_final=bn_final,\n",
    "        lin_first=lin_first,\n",
    "        y_range=y_range,\n",
    "    )\n",
    "    return res, model.default_cfg"
   ]
  },
  {
   "cell_type": "code",
   "execution_count": null,
   "metadata": {},
   "outputs": [],
   "source": [
    "# make sure that timm models can be scripted:\n",
    "tst, _ = create_timm_model(\"resnet34\", 1)\n",
    "scripted = torch.jit.script(tst)\n",
    "assert scripted, \"model could not be converted to TorchScript\""
   ]
  },
  {
   "cell_type": "markdown",
   "metadata": {},
   "source": [
    "## `Learner` convenience functions"
   ]
  },
  {
   "cell_type": "code",
   "execution_count": null,
   "metadata": {},
   "outputs": [],
   "source": [
    "# |export\n",
    "def _add_norm(dls, meta, pretrained, n_in=3):\n",
    "    if not pretrained:\n",
    "        return\n",
    "    stats = meta.get(\"stats\")\n",
    "    if stats is None:\n",
    "        return\n",
    "    if n_in != len(stats[0]):\n",
    "        return\n",
    "    if not dls.after_batch.fs.filter(risinstance(Normalize)):\n",
    "        dls.add_tfms([Normalize.from_stats(*stats)], \"after_batch\")"
   ]
  },
  {
   "cell_type": "code",
   "execution_count": null,
   "metadata": {},
   "outputs": [],
   "source": [
    "# |hide\n",
    "path = untar_data(URLs.PETS)\n",
    "dls = ImageDataLoaders.from_name_re(\n",
    "    path, get_image_files(path / \"images\"), r\"^(.*)_\\d+.jpg$\", item_tfms=Resize(224)\n",
    ")\n",
    "for _ in range(5):\n",
    "    _add_norm(dls, model_meta[models.resnet34], True)\n",
    "test_eq(len(dls.after_batch.fs), 2)"
   ]
  },
  {
   "cell_type": "code",
   "execution_count": null,
   "metadata": {},
   "outputs": [],
   "source": [
    "# |export\n",
    "def _timm_norm(dls, cfg, pretrained, n_in=3):\n",
    "    if not pretrained:\n",
    "        return\n",
    "    if n_in != len(cfg[\"mean\"]):\n",
    "        return\n",
    "    if not dls.after_batch.fs.filter(risinstance(Normalize)):\n",
    "        tfm = Normalize.from_stats(cfg[\"mean\"], cfg[\"std\"])\n",
    "        dls.add_tfms([tfm], \"after_batch\")"
   ]
  },
  {
   "cell_type": "code",
   "execution_count": null,
   "metadata": {},
   "outputs": [],
   "source": [
    "# |export\n",
    "@delegates(create_vision_model)\n",
    "def vision_learner(\n",
    "    dls,\n",
    "    arch,\n",
    "    normalize=True,\n",
    "    n_out=None,\n",
    "    pretrained=True,\n",
    "    weights=None,\n",
    "    # learner args\n",
    "    loss_func=None,\n",
    "    opt_func=Adam,\n",
    "    lr=defaults.lr,\n",
    "    splitter=None,\n",
    "    cbs=None,\n",
    "    metrics=None,\n",
    "    path=None,\n",
    "    model_dir=\"models\",\n",
    "    wd=None,\n",
    "    wd_bn_bias=False,\n",
    "    train_bn=True,\n",
    "    moms=(0.95, 0.85, 0.95),\n",
    "    # model & head args\n",
    "    cut=None,\n",
    "    init=nn.init.kaiming_normal_,\n",
    "    custom_head=None,\n",
    "    concat_pool=True,\n",
    "    pool=True,\n",
    "    lin_ftrs=None,\n",
    "    ps=0.5,\n",
    "    first_bn=True,\n",
    "    bn_final=False,\n",
    "    lin_first=False,\n",
    "    y_range=None,\n",
    "    **kwargs\n",
    "):\n",
    "    \"Build a vision learner from `dls` and `arch`\"\n",
    "    if n_out is None:\n",
    "        n_out = get_c(dls)\n",
    "    assert (\n",
    "        n_out\n",
    "    ), \"`n_out` is not defined, and could not be inferred from data, set `dls.c` or pass `n_out`\"\n",
    "    meta = model_meta.get(arch, _default_meta)\n",
    "    model_args = dict(\n",
    "        init=init,\n",
    "        custom_head=custom_head,\n",
    "        concat_pool=concat_pool,\n",
    "        pool=pool,\n",
    "        lin_ftrs=lin_ftrs,\n",
    "        ps=ps,\n",
    "        first_bn=first_bn,\n",
    "        bn_final=bn_final,\n",
    "        lin_first=lin_first,\n",
    "        y_range=y_range,\n",
    "        **kwargs\n",
    "    )\n",
    "    n_in = kwargs[\"n_in\"] if \"n_in\" in kwargs else 3\n",
    "    if isinstance(arch, str):\n",
    "        model, cfg = create_timm_model(\n",
    "            arch, n_out, default_split, pretrained, **model_args\n",
    "        )\n",
    "        if normalize:\n",
    "            _timm_norm(dls, cfg, pretrained, n_in)\n",
    "    else:\n",
    "        if normalize:\n",
    "            _add_norm(dls, meta, pretrained, n_in)\n",
    "        model = create_vision_model(\n",
    "            arch, n_out, pretrained=pretrained, weights=weights, **model_args\n",
    "        )\n",
    "\n",
    "    splitter = ifnone(splitter, meta[\"split\"])\n",
    "    learn = Learner(\n",
    "        dls=dls,\n",
    "        model=model,\n",
    "        loss_func=loss_func,\n",
    "        opt_func=opt_func,\n",
    "        lr=lr,\n",
    "        splitter=splitter,\n",
    "        cbs=cbs,\n",
    "        metrics=metrics,\n",
    "        path=path,\n",
    "        model_dir=model_dir,\n",
    "        wd=wd,\n",
    "        wd_bn_bias=wd_bn_bias,\n",
    "        train_bn=train_bn,\n",
    "        moms=moms,\n",
    "    )\n",
    "    if pretrained:\n",
    "        learn.freeze()\n",
    "    # keep track of args for loggers\n",
    "    store_attr(\"arch,normalize,n_out,pretrained\", self=learn, **kwargs)\n",
    "    return learn"
   ]
  },
  {
   "cell_type": "markdown",
   "metadata": {},
   "source": [
    "The model is built from `arch` using the number of final activations inferred from `dls` if possible (otherwise pass a value to `n_out`). It might be `pretrained` and the architecture is cut and split using the default metadata of the model architecture (this can be customized by passing a `cut` or a `splitter`).\n",
    "\n",
    "If `normalize` and `pretrained` are `True`, this function adds a `Normalization` transform to the `dls` (if there is not already one) using the statistics of the pretrained model. That way, you won't ever forget to normalize your data in transfer learning.\n",
    "\n",
    "All other arguments are passed to `Learner`.\n",
    "\n",
    "Starting with version 0.13, TorchVision supports [multiple pretrained weights](https://pytorch.org/vision/stable/models.html#initializing-pre-trained-models) for the same model architecture. The <code>vision_learner</code> default of `pretrained=True, weights=None` will use the architecture's default weights, which are currently IMAGENET1K_V2. If you are using an older version of TorchVision or creating a [timm](https://huggingface.co/docs/timm/index) model, setting `weights` will have no effect.\n",
    "\n",
    "```python\n",
    "from torchvision.models import ResNet50_Weights\n",
    "\n",
    "# Legacy weights with accuracy 76.130%\n",
    "vision_learner(models.resnet50, pretrained=True, weights=ResNet50_Weights.IMAGENET1K_V1, ...)\n",
    "\n",
    "# New weights with accuracy 80.858%. Strings are also supported.\n",
    "vision_learner(models.resnet50, pretrained=True, weights='IMAGENET1K_V2', ...)\n",
    "\n",
    "# Best available weights (currently an alias for IMAGENET1K_V2).\n",
    "# Default weights if vision_learner weights isn't set.\n",
    "vision_learner(models.resnet50, pretrained=True, weights=ResNet50_Weights.DEFAULT, ...)\n",
    "\n",
    "# No weights - random initialization\n",
    "vision_learner(models.resnet50, pretrained=False, weights=None, ...)\n",
    "```\n",
    "\n",
    "The example above shows how to use the new TorchVision 0.13 multi-weight api with <code>vision_learner</code>."
   ]
  },
  {
   "cell_type": "code",
   "execution_count": null,
   "metadata": {},
   "outputs": [],
   "source": [
    "path = untar_data(URLs.PETS)\n",
    "fnames = get_image_files(path / \"images\")\n",
    "pat = r\"^(.*)_\\d+.jpg$\"\n",
    "dls = ImageDataLoaders.from_name_re(path, fnames, pat, item_tfms=Resize(224))"
   ]
  },
  {
   "cell_type": "code",
   "execution_count": null,
   "metadata": {},
   "outputs": [],
   "source": [
    "learn = vision_learner(dls, models.resnet18, loss_func=CrossEntropyLossFlat(), ps=0.25)"
   ]
  },
  {
   "cell_type": "code",
   "execution_count": null,
   "metadata": {},
   "outputs": [],
   "source": [
    "# |hide\n",
    "if parse(torchvision.__version__) >= parse(\"0.13\"):\n",
    "    from torchvision.models import ResNet34_Weights\n",
    "\n",
    "    weights = ResNet34_Weights.IMAGENET1K_V1\n",
    "else:\n",
    "    weights = None"
   ]
  },
  {
   "cell_type": "code",
   "execution_count": null,
   "metadata": {},
   "outputs": [],
   "source": [
    "# |hide\n",
    "learn = vision_learner(\n",
    "    dls,\n",
    "    models.resnet34,\n",
    "    weights=weights,\n",
    "    loss_func=CrossEntropyLossFlat(),\n",
    "    ps=0.25,\n",
    "    concat_pool=False,\n",
    ")\n",
    "test_ne(learn.cbs, None)"
   ]
  },
  {
   "cell_type": "code",
   "execution_count": null,
   "metadata": {},
   "outputs": [],
   "source": [
    "# |hide\n",
    "test_eq(to_cpu(dls.after_batch[1].mean[0].squeeze()), tensor(imagenet_stats[0]))\n",
    "test_eq(to_cpu(dls.valid.after_batch[1].mean[0].squeeze()), tensor(imagenet_stats[0]))"
   ]
  },
  {
   "cell_type": "markdown",
   "metadata": {},
   "source": [
    "If you pass a `str` to `arch`, then a [timm](https://huggingface.co/docs/timm/index) model will be created:"
   ]
  },
  {
   "cell_type": "code",
   "execution_count": null,
   "metadata": {},
   "outputs": [],
   "source": [
    "dls = ImageDataLoaders.from_name_re(path, fnames, pat, item_tfms=Resize(224))\n",
    "learn = vision_learner(dls, \"convnext_tiny\", loss_func=CrossEntropyLossFlat(), ps=0.25)"
   ]
  },
  {
   "cell_type": "code",
   "execution_count": null,
   "metadata": {},
   "outputs": [],
   "source": [
    "# |export\n",
    "@delegates(models.unet.DynamicUnet.__init__)\n",
    "def create_unet_model(\n",
    "    arch, n_out, img_size, pretrained=True, weights=None, cut=None, n_in=3, **kwargs\n",
    "):\n",
    "    \"Create custom unet architecture\"\n",
    "    meta = model_meta.get(arch, _default_meta)\n",
    "    if parse(torchvision.__version__) >= parse(\"0.13\") and \"weights\" in meta:\n",
    "        if weights is not None and not pretrained:\n",
    "            warn(\n",
    "                f\"{pretrained=} but `weights` are set {weights=}. To randomly initialize set `pretrained=False` & `weights=None`\"\n",
    "            )\n",
    "        model = arch(\n",
    "            weights=meta[\"weights\"] if (weights is None and pretrained) else weights\n",
    "        )\n",
    "    else:\n",
    "        model = arch(pretrained=pretrained)\n",
    "    body = create_body(model, n_in, pretrained, ifnone(cut, meta[\"cut\"]))\n",
    "    model = models.unet.DynamicUnet(body, n_out, img_size, **kwargs)\n",
    "    return model"
   ]
  },
  {
   "cell_type": "code",
   "execution_count": null,
   "metadata": {},
   "outputs": [
    {
     "data": {
      "text/markdown": [
       "---\n",
       "\n",
       "[source](https://github.com/fastai/fastai/blob/master/fastai/vision/learner.py#L248){target=\"_blank\" style=\"float:right; font-size:smaller\"}\n",
       "\n",
       "### create_unet_model\n",
       "\n",
       ">      create_unet_model (arch, n_out, img_size, pretrained=True, weights=None,\n",
       ">                         cut=None, n_in=3, blur=False, blur_final=True,\n",
       ">                         self_attention=False, y_range=None, last_cross=True,\n",
       ">                         bottle=False, act_cls=<class\n",
       ">                         'torch.nn.modules.activation.ReLU'>, init=<function\n",
       ">                         kaiming_normal_>, norm_type=None)\n",
       "\n",
       "Create custom unet architecture"
      ],
      "text/plain": [
       "---\n",
       "\n",
       "[source](https://github.com/fastai/fastai/blob/master/fastai/vision/learner.py#L248){target=\"_blank\" style=\"float:right; font-size:smaller\"}\n",
       "\n",
       "### create_unet_model\n",
       "\n",
       ">      create_unet_model (arch, n_out, img_size, pretrained=True, weights=None,\n",
       ">                         cut=None, n_in=3, blur=False, blur_final=True,\n",
       ">                         self_attention=False, y_range=None, last_cross=True,\n",
       ">                         bottle=False, act_cls=<class\n",
       ">                         'torch.nn.modules.activation.ReLU'>, init=<function\n",
       ">                         kaiming_normal_>, norm_type=None)\n",
       "\n",
       "Create custom unet architecture"
      ]
     },
     "execution_count": null,
     "metadata": {},
     "output_type": "execute_result"
    }
   ],
   "source": [
    "show_doc(create_unet_model)"
   ]
  },
  {
   "cell_type": "code",
   "execution_count": null,
   "metadata": {},
   "outputs": [],
   "source": [
    "tst = create_unet_model(models.resnet18, 10, (24, 24), True, n_in=1)"
   ]
  },
  {
   "cell_type": "code",
   "execution_count": null,
   "metadata": {},
   "outputs": [],
   "source": [
    "# |export\n",
    "@delegates(create_unet_model)\n",
    "def unet_learner(\n",
    "    dls,\n",
    "    arch,\n",
    "    normalize=True,\n",
    "    n_out=None,\n",
    "    pretrained=True,\n",
    "    weights=None,\n",
    "    config=None,\n",
    "    # learner args\n",
    "    loss_func=None,\n",
    "    opt_func=Adam,\n",
    "    lr=defaults.lr,\n",
    "    splitter=None,\n",
    "    cbs=None,\n",
    "    metrics=None,\n",
    "    path=None,\n",
    "    model_dir=\"models\",\n",
    "    wd=None,\n",
    "    wd_bn_bias=False,\n",
    "    train_bn=True,\n",
    "    moms=(0.95, 0.85, 0.95),\n",
    "    **kwargs\n",
    "):\n",
    "    \"Build a unet learner from `dls` and `arch`\"\n",
    "\n",
    "    if config:\n",
    "        warnings.warn(\n",
    "            \"config param is deprecated. Pass your args directly to unet_learner.\"\n",
    "        )\n",
    "        kwargs = {**config, **kwargs}\n",
    "\n",
    "    meta = model_meta.get(arch, _default_meta)\n",
    "    n_in = kwargs[\"n_in\"] if \"n_in\" in kwargs else 3\n",
    "    if normalize:\n",
    "        _add_norm(dls, meta, pretrained, n_in)\n",
    "\n",
    "    n_out = ifnone(n_out, get_c(dls))\n",
    "    assert (\n",
    "        n_out\n",
    "    ), \"`n_out` is not defined, and could not be inferred from data, set `dls.c` or pass `n_out`\"\n",
    "    img_size = dls.one_batch()[0].shape[-2:]\n",
    "    assert img_size, \"image size could not be inferred from data\"\n",
    "    model = create_unet_model(\n",
    "        arch, n_out, img_size, pretrained=pretrained, weights=weights, **kwargs\n",
    "    )\n",
    "\n",
    "    splitter = ifnone(splitter, meta[\"split\"])\n",
    "    learn = Learner(\n",
    "        dls=dls,\n",
    "        model=model,\n",
    "        loss_func=loss_func,\n",
    "        opt_func=opt_func,\n",
    "        lr=lr,\n",
    "        splitter=splitter,\n",
    "        cbs=cbs,\n",
    "        metrics=metrics,\n",
    "        path=path,\n",
    "        model_dir=model_dir,\n",
    "        wd=wd,\n",
    "        wd_bn_bias=wd_bn_bias,\n",
    "        train_bn=train_bn,\n",
    "        moms=moms,\n",
    "    )\n",
    "    if pretrained:\n",
    "        learn.freeze()\n",
    "    # keep track of args for loggers\n",
    "    store_attr(\"arch,normalize,n_out,pretrained\", self=learn, **kwargs)\n",
    "    return learn"
   ]
  },
  {
   "cell_type": "markdown",
   "metadata": {},
   "source": [
    "The model is built from `arch` using the number of final filters inferred from `dls` if possible (otherwise pass a value to `n_out`). It might be `pretrained` and the architecture is cut and split using the default metadata of the model architecture (this can be customized by passing a `cut` or a `splitter`).\n",
    "\n",
    "If `normalize` and `pretrained` are `True`, this function adds a `Normalization` transform to the `dls` (if there is not already one) using the statistics of the pretrained model. That way, you won't ever forget to normalize your data in transfer learning.\n",
    "\n",
    "All other arguments are passed to `Learner`.\n",
    "\n",
    "<code>unet_learner</code> also supports TorchVision's new multi-weight API via `weights`. See `vision_learner` for more details."
   ]
  },
  {
   "cell_type": "code",
   "execution_count": null,
   "metadata": {},
   "outputs": [],
   "source": [
    "path = untar_data(URLs.CAMVID_TINY)\n",
    "fnames = get_image_files(path / \"images\")\n",
    "\n",
    "\n",
    "def label_func(x):\n",
    "    return path / \"labels\" / f\"{x.stem}_P{x.suffix}\"\n",
    "\n",
    "\n",
    "codes = np.loadtxt(path / \"codes.txt\", dtype=str)\n",
    "dls = SegmentationDataLoaders.from_label_func(path, fnames, label_func, codes=codes)"
   ]
  },
  {
   "cell_type": "code",
   "execution_count": null,
   "metadata": {},
   "outputs": [],
   "source": [
    "learn = unet_learner(\n",
    "    dls, models.resnet34, loss_func=CrossEntropyLossFlat(axis=1), y_range=(0, 1)\n",
    ")"
   ]
  },
  {
   "cell_type": "code",
   "execution_count": null,
   "metadata": {},
   "outputs": [],
   "source": [
    "# |hide\n",
    "test_ne(learn.cbs, None)"
   ]
  },
  {
   "cell_type": "code",
   "execution_count": null,
   "metadata": {},
   "outputs": [],
   "source": [
    "# |export\n",
    "def create_cnn_model(*args, **kwargs):\n",
    "    \"Deprecated name for `create_vision_model` -- do not use\"\n",
    "    warn(\n",
    "        \"`create_cnn_model` has been renamed to `create_vision_model` -- please update your code\"\n",
    "    )\n",
    "    return create_vision_model(*args, **kwargs)"
   ]
  },
  {
   "cell_type": "code",
   "execution_count": null,
   "metadata": {},
   "outputs": [],
   "source": [
    "# |export\n",
    "def cnn_learner(*args, **kwargs):\n",
    "    \"Deprecated name for `vision_learner` -- do not use\"\n",
    "    warn(\n",
    "        \"`cnn_learner` has been renamed to `vision_learner` -- please update your code\"\n",
    "    )\n",
    "    return vision_learner(*args, **kwargs)"
   ]
  },
  {
   "cell_type": "markdown",
   "metadata": {},
   "source": [
    "## Show functions -"
   ]
  },
  {
   "cell_type": "code",
   "execution_count": null,
   "metadata": {},
   "outputs": [],
   "source": [
    "# |export\n",
    "@typedispatch\n",
    "def show_results(\n",
    "    x: TensorImage,\n",
    "    y,\n",
    "    samples,\n",
    "    outs,\n",
    "    ctxs=None,\n",
    "    max_n=10,\n",
    "    nrows=None,\n",
    "    ncols=None,\n",
    "    figsize=None,\n",
    "    **kwargs\n",
    "):\n",
    "    if ctxs is None:\n",
    "        ctxs = get_grid(\n",
    "            min(len(samples), max_n), nrows=nrows, ncols=ncols, figsize=figsize\n",
    "        )\n",
    "    ctxs = show_results[object](x, y, samples, outs, ctxs=ctxs, max_n=max_n, **kwargs)\n",
    "    return ctxs"
   ]
  },
  {
   "cell_type": "code",
   "execution_count": null,
   "metadata": {},
   "outputs": [],
   "source": [
    "# |export\n",
    "@typedispatch\n",
    "def show_results(\n",
    "    x: TensorImage,\n",
    "    y: TensorCategory,\n",
    "    samples,\n",
    "    outs,\n",
    "    ctxs=None,\n",
    "    max_n=10,\n",
    "    nrows=None,\n",
    "    ncols=None,\n",
    "    figsize=None,\n",
    "    **kwargs\n",
    "):\n",
    "    if ctxs is None:\n",
    "        ctxs = get_grid(\n",
    "            min(len(samples), max_n), nrows=nrows, ncols=ncols, figsize=figsize\n",
    "        )\n",
    "    for i in range(2):\n",
    "        ctxs = [\n",
    "            b.show(ctx=c, **kwargs)\n",
    "            for b, c, _ in zip(samples.itemgot(i), ctxs, range(max_n))\n",
    "        ]\n",
    "    ctxs = [\n",
    "        r.show(ctx=c, color=\"green\" if b == r else \"red\", **kwargs)\n",
    "        for b, r, c, _ in zip(samples.itemgot(1), outs.itemgot(0), ctxs, range(max_n))\n",
    "    ]\n",
    "    return ctxs"
   ]
  },
  {
   "cell_type": "code",
   "execution_count": null,
   "metadata": {},
   "outputs": [],
   "source": [
    "# |export\n",
    "@typedispatch\n",
    "def show_results(\n",
    "    x: TensorImage,\n",
    "    y: TensorMask | TensorPoint | TensorBBox,\n",
    "    samples,\n",
    "    outs,\n",
    "    ctxs=None,\n",
    "    max_n=6,\n",
    "    nrows=None,\n",
    "    ncols=1,\n",
    "    figsize=None,\n",
    "    **kwargs\n",
    "):\n",
    "    if ctxs is None:\n",
    "        ctxs = get_grid(\n",
    "            min(len(samples), max_n),\n",
    "            nrows=nrows,\n",
    "            ncols=ncols,\n",
    "            figsize=figsize,\n",
    "            double=True,\n",
    "            title=\"Target/Prediction\",\n",
    "        )\n",
    "    for i in range(2):\n",
    "        ctxs[::2] = [\n",
    "            b.show(ctx=c, **kwargs)\n",
    "            for b, c, _ in zip(samples.itemgot(i), ctxs[::2], range(2 * max_n))\n",
    "        ]\n",
    "    for o in [samples, outs]:\n",
    "        ctxs[1::2] = [\n",
    "            b.show(ctx=c, **kwargs)\n",
    "            for b, c, _ in zip(o.itemgot(0), ctxs[1::2], range(2 * max_n))\n",
    "        ]\n",
    "    return ctxs"
   ]
  },
  {
   "cell_type": "code",
   "execution_count": null,
   "metadata": {},
   "outputs": [],
   "source": [
    "# |export\n",
    "@typedispatch\n",
    "def show_results(\n",
    "    x: TensorImage,\n",
    "    y: TensorImage,\n",
    "    samples,\n",
    "    outs,\n",
    "    ctxs=None,\n",
    "    max_n=10,\n",
    "    figsize=None,\n",
    "    **kwargs\n",
    "):\n",
    "    if ctxs is None:\n",
    "        ctxs = get_grid(\n",
    "            3 * min(len(samples), max_n),\n",
    "            ncols=3,\n",
    "            figsize=figsize,\n",
    "            title=\"Input/Target/Prediction\",\n",
    "        )\n",
    "    for i in range(2):\n",
    "        ctxs[i::3] = [\n",
    "            b.show(ctx=c, **kwargs)\n",
    "            for b, c, _ in zip(samples.itemgot(i), ctxs[i::3], range(max_n))\n",
    "        ]\n",
    "    ctxs[2::3] = [\n",
    "        b.show(ctx=c, **kwargs)\n",
    "        for b, c, _ in zip(outs.itemgot(0), ctxs[2::3], range(max_n))\n",
    "    ]\n",
    "    return ctxs"
   ]
  },
  {
   "cell_type": "code",
   "execution_count": null,
   "metadata": {},
   "outputs": [],
   "source": [
    "# |export\n",
    "@typedispatch\n",
    "def plot_top_losses(\n",
    "    x: TensorImage,\n",
    "    y: TensorCategory,\n",
    "    samples,\n",
    "    outs,\n",
    "    raws,\n",
    "    losses,\n",
    "    nrows=None,\n",
    "    ncols=None,\n",
    "    figsize=None,\n",
    "    **kwargs,\n",
    "):\n",
    "    axs = get_grid(\n",
    "        len(samples),\n",
    "        nrows=nrows,\n",
    "        ncols=ncols,\n",
    "        figsize=figsize,\n",
    "        title=\"Prediction/Actual/Loss/Probability\",\n",
    "    )\n",
    "    for ax, s, o, r, l in zip(axs, samples, outs, raws, losses):\n",
    "        s[0].show(ctx=ax, **kwargs)\n",
    "        ax.set_title(f\"{o[0]}/{s[1]} / {l.item():.2f} / {r.max().item():.2f}\")"
   ]
  },
  {
   "cell_type": "code",
   "execution_count": null,
   "metadata": {},
   "outputs": [],
   "source": [
    "# |export\n",
    "@typedispatch\n",
    "def plot_top_losses(\n",
    "    x: TensorImage,\n",
    "    y: TensorMultiCategory,\n",
    "    samples,\n",
    "    outs,\n",
    "    raws,\n",
    "    losses,\n",
    "    nrows=None,\n",
    "    ncols=None,\n",
    "    figsize=None,\n",
    "    **kwargs,\n",
    "):\n",
    "    axs = get_grid(len(samples), nrows=nrows, ncols=ncols, figsize=figsize)\n",
    "    for i, (ax, s) in enumerate(zip(axs, samples)):\n",
    "        s[0].show(ctx=ax, title=f\"Image {i}\", **kwargs)\n",
    "    rows = get_empty_df(len(samples))\n",
    "    outs = L(\n",
    "        s[1:] + o + (TitledStr(r), TitledFloat(l.item()))\n",
    "        for s, o, r, l in zip(samples, outs, raws, losses)\n",
    "    )\n",
    "    for i, l in enumerate([\"target\", \"predicted\", \"probabilities\", \"loss\"]):\n",
    "        rows = [b.show(ctx=r, label=l, **kwargs) for b, r in zip(outs.itemgot(i), rows)]\n",
    "    display_df(pd.DataFrame(rows))"
   ]
  },
  {
   "cell_type": "code",
   "execution_count": null,
   "metadata": {},
   "outputs": [],
   "source": [
    "# |export\n",
    "@typedispatch\n",
    "def plot_top_losses(\n",
    "    x: TensorImage,\n",
    "    y: TensorMask,\n",
    "    samples,\n",
    "    outs,\n",
    "    raws,\n",
    "    losses,\n",
    "    nrows=None,\n",
    "    ncols=None,\n",
    "    figsize=None,\n",
    "    **kwargs,\n",
    "):\n",
    "    axes = get_grid(\n",
    "        len(samples) * 3,\n",
    "        nrows=len(samples),\n",
    "        ncols=3,\n",
    "        figsize=figsize,\n",
    "        flatten=False,\n",
    "        title=\"Input | Target | Prediction\",\n",
    "    )\n",
    "    if axes.ndim == 1:\n",
    "        axes = (axes,)\n",
    "    titles = [\"input\", \"target\", \"pred\"]\n",
    "    for axs, s, o, l in zip(axes, samples, outs, losses):\n",
    "        imgs = (s[0], s[1], o[0])\n",
    "        for ax, im, title in zip(axs, imgs, titles):\n",
    "            if title == \"pred\":\n",
    "                title += f\"; loss = {l.item():.4f}\"\n",
    "            im.show(ctx=ax, **kwargs)\n",
    "            ax.set_title(title)"
   ]
  },
  {
   "cell_type": "markdown",
   "metadata": {},
   "source": [
    "## Export -"
   ]
  },
  {
   "cell_type": "code",
   "execution_count": null,
   "metadata": {},
   "outputs": [],
   "source": [
    "# |hide\n",
    "from nbdev import nbdev_export\n",
    "\n",
    "nbdev_export()"
   ]
  }
 ],
 "metadata": {
  "jupytext": {
   "split_at_heading": true
  },
  "kernelspec": {
   "display_name": "python3",
   "language": "python",
   "name": "python3"
  }
 },
 "nbformat": 4,
 "nbformat_minor": 4
}
