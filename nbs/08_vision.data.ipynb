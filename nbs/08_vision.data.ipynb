{
 "cells": [
  {
   "cell_type": "code",
   "execution_count": null,
   "metadata": {},
   "outputs": [],
   "source": [
    "# |hide\n",
    "# | eval: false\n",
    "! [ -e /content ] && pip install -Uqq fastai  # upgrade fastai on colab"
   ]
  },
  {
   "cell_type": "code",
   "execution_count": null,
   "metadata": {},
   "outputs": [],
   "source": [
    "# |default_exp vision.data"
   ]
  },
  {
   "cell_type": "code",
   "execution_count": null,
   "metadata": {},
   "outputs": [],
   "source": [
    "# |export\n",
    "from __future__ import annotations\n",
    "from fastai.torch_basics import *\n",
    "from fastai.data.all import *\n",
    "from fastai.vision.core import *\n",
    "import types"
   ]
  },
  {
   "cell_type": "code",
   "execution_count": null,
   "metadata": {},
   "outputs": [],
   "source": [
    "# |hide\n",
    "from nbdev.showdoc import *\n",
    "\n",
    "# from fastai.vision.augment import *"
   ]
  },
  {
   "cell_type": "markdown",
   "metadata": {},
   "source": [
    "# Vision data\n",
    "\n",
    "> Helper functions to get data in a `DataLoaders` in the vision application and higher class `ImageDataLoaders`"
   ]
  },
  {
   "cell_type": "markdown",
   "metadata": {},
   "source": [
    "The main classes defined in this module are `ImageDataLoaders` and `SegmentationDataLoaders`, so you probably want to jump to their definitions. They provide factory methods that are a great way to quickly get your data ready for training, see the [vision tutorial](23_tutorial.vision.ipynb) for examples."
   ]
  },
  {
   "cell_type": "markdown",
   "metadata": {},
   "source": [
    "## Helper functions"
   ]
  },
  {
   "cell_type": "code",
   "execution_count": null,
   "metadata": {},
   "outputs": [],
   "source": [
    "# |export\n",
    "@delegates(subplots)\n",
    "def get_grid(\n",
    "    n: int,  # Number of axes in the returned grid\n",
    "    nrows: int = None,  # Number of rows in the returned grid, defaulting to `int(math.sqrt(n))`\n",
    "    ncols: int = None,  # Number of columns in the returned grid, defaulting to `ceil(n/rows)`\n",
    "    figsize: tuple = None,  # Width, height in inches of the returned figure\n",
    "    double: bool = False,  # Whether to double the number of columns and `n`\n",
    "    title: str = None,  # If passed, title set to the figure\n",
    "    return_fig: bool = False,  # Whether to return the figure created by `subplots`\n",
    "    flatten: bool = True,  # Whether to flatten the matplot axes such that they can be iterated over with a single loop\n",
    "    **kwargs,\n",
    ") -> (\n",
    "    plt.Figure,\n",
    "    plt.Axes,\n",
    "):  # Returns just `axs` by default, and (`fig`, `axs`) if `return_fig` is set to True\n",
    "    \"Return a grid of `n` axes, `rows` by `cols`\"\n",
    "    if nrows:\n",
    "        ncols = ncols or int(np.ceil(n / nrows))\n",
    "    elif ncols:\n",
    "        nrows = nrows or int(np.ceil(n / ncols))\n",
    "    else:\n",
    "        nrows = int(math.sqrt(n))\n",
    "        ncols = int(np.ceil(n / nrows))\n",
    "    if double:\n",
    "        ncols *= 2\n",
    "        n *= 2\n",
    "    fig, axs = subplots(nrows, ncols, figsize=figsize, **kwargs)\n",
    "    if flatten:\n",
    "        axs = [\n",
    "            ax if i < n else ax.set_axis_off() for i, ax in enumerate(axs.flatten())\n",
    "        ][:n]\n",
    "    if title is not None:\n",
    "        fig.suptitle(title, weight=\"bold\", size=14)\n",
    "    return (fig, axs) if return_fig else axs"
   ]
  },
  {
   "cell_type": "markdown",
   "metadata": {},
   "source": [
    "This is used by the type-dispatched versions of `show_batch` and `show_results` for the vision application. The default `figsize` is `(cols*imsize, rows*imsize+0.6)`. `imsize` is passed down to `subplots`. `suptitle`, `sharex`, `sharey`, `squeeze`, `subplot_kw` and `gridspec_kw` are all passed down to [plt.subplots](https://matplotlib.org/stable/api/_as_gen/matplotlib.pyplot.subplots.html#matplotlib-pyplot-subplots). If `return_fig` is `True`, returns `fig,axs`, otherwise just `axs`."
   ]
  },
  {
   "cell_type": "code",
   "execution_count": null,
   "metadata": {},
   "outputs": [],
   "source": [
    "# |export\n",
    "def clip_remove_empty(\n",
    "    bbox: TensorBBox,  # Coordinates of bounding boxes\n",
    "    label: TensorMultiCategory,  # Labels of the bounding boxes\n",
    "):\n",
    "    \"Clip bounding boxes with image border and remove empty boxes along with corresponding labels\"\n",
    "    bbox = torch.clamp(bbox, -1, 1)\n",
    "    empty = (bbox[..., 2] - bbox[..., 0]) * (bbox[..., 3] - bbox[..., 1]) <= 0.0\n",
    "    return (bbox[~empty], label[TensorBase(~empty)])"
   ]
  },
  {
   "cell_type": "markdown",
   "metadata": {},
   "source": [
    "This is used in `bb_pad`"
   ]
  },
  {
   "cell_type": "code",
   "execution_count": null,
   "metadata": {},
   "outputs": [],
   "source": [
    "bb = TensorBBox(\n",
    "    [\n",
    "        [-2, -0.5, 0.5, 1.5],\n",
    "        [-0.5, -0.5, 0.5, 0.5],\n",
    "        [1, 0.5, 0.5, 0.75],\n",
    "        [-0.5, -0.5, 0.5, 0.5],\n",
    "        [-2, -0.5, -1.5, 0.5],\n",
    "    ]\n",
    ")\n",
    "bb, lbl = clip_remove_empty(bb, TensorMultiCategory([1, 2, 3, 2, 5]))\n",
    "test_eq(\n",
    "    bb,\n",
    "    TensorBBox([[-1, -0.5, 0.5, 1.0], [-0.5, -0.5, 0.5, 0.5], [-0.5, -0.5, 0.5, 0.5]]),\n",
    ")\n",
    "test_eq(lbl, TensorMultiCategory([1, 2, 2]))"
   ]
  },
  {
   "cell_type": "code",
   "execution_count": null,
   "metadata": {},
   "outputs": [],
   "source": [
    "# |export\n",
    "def bb_pad(\n",
    "    samples: list,  # List of 3-tuples like (image, bounding_boxes, labels)\n",
    "    pad_idx=0,  # Label that will be used to pad each list of labels\n",
    "):\n",
    "    \"Function that collects `samples` of labelled bboxes and adds padding with `pad_idx`.\"\n",
    "    samples = [(s[0], *clip_remove_empty(*s[1:])) for s in samples]\n",
    "    max_len = max([len(s[2]) for s in samples])\n",
    "\n",
    "    def _f(img, bbox, lbl):\n",
    "        bbox = torch.cat([bbox, bbox.new_zeros(max_len - bbox.shape[0], 4)])\n",
    "        lbl = torch.cat([lbl, lbl.new_zeros(max_len - lbl.shape[0]) + pad_idx])\n",
    "        return img, bbox, lbl\n",
    "\n",
    "    return [_f(*s) for s in samples]"
   ]
  },
  {
   "cell_type": "markdown",
   "metadata": {},
   "source": [
    "This is used in `BBoxBlock`"
   ]
  },
  {
   "cell_type": "code",
   "execution_count": null,
   "metadata": {},
   "outputs": [],
   "source": [
    "img1, img2 = TensorImage(torch.randn(16, 16, 3)), TensorImage(torch.randn(16, 16, 3))\n",
    "bb1 = tensor(\n",
    "    [\n",
    "        [-2, -0.5, 0.5, 1.5],\n",
    "        [-0.5, -0.5, 0.5, 0.5],\n",
    "        [1, 0.5, 0.5, 0.75],\n",
    "        [-0.5, -0.5, 0.5, 0.5],\n",
    "    ]\n",
    ")\n",
    "lbl1 = tensor([1, 2, 3, 2])\n",
    "bb2 = tensor([[-0.5, -0.5, 0.5, 0.5], [-0.5, -0.5, 0.5, 0.5]])\n",
    "lbl2 = tensor([2, 2])\n",
    "samples = [(img1, bb1, lbl1), (img2, bb2, lbl2)]\n",
    "res = bb_pad(samples)\n",
    "non_empty = tensor([True, True, False, True])\n",
    "test_eq(res[0][0], img1)\n",
    "test_eq(\n",
    "    res[0][1],\n",
    "    tensor([[-1, -0.5, 0.5, 1.0], [-0.5, -0.5, 0.5, 0.5], [-0.5, -0.5, 0.5, 0.5]]),\n",
    ")\n",
    "test_eq(res[0][2], tensor([1, 2, 2]))\n",
    "test_eq(res[1][0], img2)\n",
    "test_eq(\n",
    "    res[1][1], tensor([[-0.5, -0.5, 0.5, 0.5], [-0.5, -0.5, 0.5, 0.5], [0, 0, 0, 0]])\n",
    ")\n",
    "test_eq(res[1][2], tensor([2, 2, 0]))"
   ]
  },
  {
   "cell_type": "markdown",
   "metadata": {},
   "source": [
    "## Show methods -"
   ]
  },
  {
   "cell_type": "code",
   "execution_count": null,
   "metadata": {},
   "outputs": [],
   "source": [
    "# |export\n",
    "@typedispatch\n",
    "def show_batch(\n",
    "    x: TensorImage,\n",
    "    y,\n",
    "    samples,\n",
    "    ctxs=None,\n",
    "    max_n=10,\n",
    "    nrows=None,\n",
    "    ncols=None,\n",
    "    figsize=None,\n",
    "    **kwargs\n",
    "):\n",
    "    if ctxs is None:\n",
    "        ctxs = get_grid(\n",
    "            min(len(samples), max_n), nrows=nrows, ncols=ncols, figsize=figsize\n",
    "        )\n",
    "    ctxs = show_batch[object](x, y, samples, ctxs=ctxs, max_n=max_n, **kwargs)\n",
    "    return ctxs"
   ]
  },
  {
   "cell_type": "code",
   "execution_count": null,
   "metadata": {},
   "outputs": [],
   "source": [
    "# |export\n",
    "@typedispatch\n",
    "def show_batch(\n",
    "    x: TensorImage,\n",
    "    y: TensorImage,\n",
    "    samples,\n",
    "    ctxs=None,\n",
    "    max_n=10,\n",
    "    nrows=None,\n",
    "    ncols=None,\n",
    "    figsize=None,\n",
    "    **kwargs\n",
    "):\n",
    "    if ctxs is None:\n",
    "        ctxs = get_grid(\n",
    "            min(len(samples), max_n),\n",
    "            nrows=nrows,\n",
    "            ncols=ncols,\n",
    "            figsize=figsize,\n",
    "            double=True,\n",
    "        )\n",
    "    for i in range(2):\n",
    "        ctxs[i::2] = [\n",
    "            b.show(ctx=c, **kwargs)\n",
    "            for b, c, _ in zip(samples.itemgot(i), ctxs[i::2], range(max_n))\n",
    "        ]\n",
    "    return ctxs"
   ]
  },
  {
   "cell_type": "markdown",
   "metadata": {},
   "source": [
    "## `TransformBlock`s for vision"
   ]
  },
  {
   "cell_type": "markdown",
   "metadata": {},
   "source": [
    "These are the blocks the vision application provide for the [data block API](06_data.block.ipynb)."
   ]
  },
  {
   "cell_type": "code",
   "execution_count": null,
   "metadata": {},
   "outputs": [],
   "source": [
    "# |export\n",
    "def ImageBlock(cls: PILBase = PILImage):\n",
    "    \"A `TransformBlock` for images of `cls`\"\n",
    "    return TransformBlock(type_tfms=cls.create, batch_tfms=IntToFloatTensor)"
   ]
  },
  {
   "cell_type": "code",
   "execution_count": null,
   "metadata": {},
   "outputs": [],
   "source": [
    "# |export\n",
    "def MaskBlock(codes: list = None):  # Vocab labels for segmentation masks\n",
    "    \"A `TransformBlock` for segmentation masks, potentially with `codes`\"\n",
    "    return TransformBlock(\n",
    "        type_tfms=PILMask.create,\n",
    "        item_tfms=AddMaskCodes(codes=codes),\n",
    "        batch_tfms=IntToFloatTensor,\n",
    "    )"
   ]
  },
  {
   "cell_type": "code",
   "execution_count": null,
   "metadata": {},
   "outputs": [],
   "source": [
    "# |export\n",
    "PointBlock = TransformBlock(type_tfms=TensorPoint.create, item_tfms=PointScaler)\n",
    "BBoxBlock = TransformBlock(\n",
    "    type_tfms=TensorBBox.create,\n",
    "    item_tfms=PointScaler,\n",
    "    dls_kwargs={\"before_batch\": bb_pad},\n",
    ")\n",
    "\n",
    "PointBlock.__doc__ = \"A `TransformBlock` for points in an image\"\n",
    "BBoxBlock.__doc__ = \"A `TransformBlock` for bounding boxes in an image\""
   ]
  },
  {
   "cell_type": "code",
   "execution_count": null,
   "metadata": {},
   "outputs": [
    {
     "data": {
      "text/markdown": [
       "---\n",
       "\n",
       "### PointBlock\n",
       "\n",
       "\n",
       "\n",
       "A `TransformBlock` for points in an image"
      ],
      "text/plain": [
       "---\n",
       "\n",
       "### PointBlock\n",
       "\n",
       "\n",
       "\n",
       "A `TransformBlock` for points in an image"
      ]
     },
     "execution_count": null,
     "metadata": {},
     "output_type": "execute_result"
    }
   ],
   "source": [
    "show_doc(PointBlock, name=\"PointBlock\")"
   ]
  },
  {
   "cell_type": "code",
   "execution_count": null,
   "metadata": {},
   "outputs": [
    {
     "data": {
      "text/markdown": [
       "---\n",
       "\n",
       "### BBoxBlock\n",
       "\n",
       "\n",
       "\n",
       "A `TransformBlock` for bounding boxes in an image"
      ],
      "text/plain": [
       "---\n",
       "\n",
       "### BBoxBlock\n",
       "\n",
       "\n",
       "\n",
       "A `TransformBlock` for bounding boxes in an image"
      ]
     },
     "execution_count": null,
     "metadata": {},
     "output_type": "execute_result"
    }
   ],
   "source": [
    "show_doc(BBoxBlock, name=\"BBoxBlock\")"
   ]
  },
  {
   "cell_type": "code",
   "execution_count": null,
   "metadata": {},
   "outputs": [],
   "source": [
    "# |export\n",
    "def BBoxLblBlock(\n",
    "    vocab: list = None,  # Vocab labels for bounding boxes\n",
    "    add_na: bool = True,  # Add NaN as a background class\n",
    "):\n",
    "    \"A `TransformBlock` for labeled bounding boxes, potentially with `vocab`\"\n",
    "    return TransformBlock(\n",
    "        type_tfms=MultiCategorize(vocab=vocab, add_na=add_na), item_tfms=BBoxLabeler\n",
    "    )"
   ]
  },
  {
   "cell_type": "markdown",
   "metadata": {},
   "source": [
    "If `add_na` is `True`, a new category is added for NaN (that will represent the background class)."
   ]
  },
  {
   "cell_type": "markdown",
   "metadata": {},
   "source": [
    "## ImageDataLoaders -"
   ]
  },
  {
   "cell_type": "code",
   "execution_count": null,
   "metadata": {},
   "outputs": [],
   "source": [
    "# |export\n",
    "class ImageDataLoaders(DataLoaders):\n",
    "    \"Basic wrapper around several `DataLoader`s with factory methods for computer vision problems\"\n",
    "\n",
    "    @classmethod\n",
    "    @delegates(DataLoaders.from_dblock)\n",
    "    def from_folder(\n",
    "        cls,\n",
    "        path,\n",
    "        train=\"train\",\n",
    "        valid=\"valid\",\n",
    "        valid_pct=None,\n",
    "        seed=None,\n",
    "        vocab=None,\n",
    "        item_tfms=None,\n",
    "        batch_tfms=None,\n",
    "        img_cls=PILImage,\n",
    "        **kwargs,\n",
    "    ):\n",
    "        \"Create from imagenet style dataset in `path` with `train` and `valid` subfolders (or provide `valid_pct`)\"\n",
    "        splitter = (\n",
    "            GrandparentSplitter(train_name=train, valid_name=valid)\n",
    "            if valid_pct is None\n",
    "            else RandomSplitter(valid_pct, seed=seed)\n",
    "        )\n",
    "        get_items = (\n",
    "            get_image_files\n",
    "            if valid_pct\n",
    "            else partial(get_image_files, folders=[train, valid])\n",
    "        )\n",
    "        dblock = DataBlock(\n",
    "            blocks=(ImageBlock(img_cls), CategoryBlock(vocab=vocab)),\n",
    "            get_items=get_items,\n",
    "            splitter=splitter,\n",
    "            get_y=parent_label,\n",
    "            item_tfms=item_tfms,\n",
    "            batch_tfms=batch_tfms,\n",
    "        )\n",
    "        return cls.from_dblock(dblock, path, path=path, **kwargs)\n",
    "\n",
    "    @classmethod\n",
    "    @delegates(DataLoaders.from_dblock)\n",
    "    def from_path_func(\n",
    "        cls,\n",
    "        path,\n",
    "        fnames,\n",
    "        label_func,\n",
    "        valid_pct=0.2,\n",
    "        seed=None,\n",
    "        item_tfms=None,\n",
    "        batch_tfms=None,\n",
    "        img_cls=PILImage,\n",
    "        **kwargs,\n",
    "    ):\n",
    "        \"Create from list of `fnames` in `path`s with `label_func`\"\n",
    "        dblock = DataBlock(\n",
    "            blocks=(ImageBlock(img_cls), CategoryBlock),\n",
    "            splitter=RandomSplitter(valid_pct, seed=seed),\n",
    "            get_y=label_func,\n",
    "            item_tfms=item_tfms,\n",
    "            batch_tfms=batch_tfms,\n",
    "        )\n",
    "        return cls.from_dblock(dblock, fnames, path=path, **kwargs)\n",
    "\n",
    "    @classmethod\n",
    "    def from_name_func(\n",
    "        cls,\n",
    "        path: str\n",
    "        | Path,  # Set the default path to a directory that a `Learner` can use to save files like models\n",
    "        fnames: list,  # A list of `os.Pathlike`'s to individual image files\n",
    "        label_func: callable,  # A function that receives a string (the file name) and outputs a label\n",
    "        **kwargs,\n",
    "    ) -> DataLoaders:\n",
    "        \"Create from the name attrs of `fnames` in `path`s with `label_func`\"\n",
    "        if (\n",
    "            sys.platform == \"win32\"\n",
    "            and isinstance(label_func, types.LambdaType)\n",
    "            and label_func.__name__ == \"<lambda>\"\n",
    "        ):\n",
    "            # https://medium.com/@jwnx/multiprocessing-serialization-in-python-with-pickle-9844f6fa1812\n",
    "            raise ValueError(\"label_func couldn't be lambda function on Windows\")\n",
    "        f = using_attr(label_func, \"name\")\n",
    "        return cls.from_path_func(path, fnames, f, **kwargs)\n",
    "\n",
    "    @classmethod\n",
    "    def from_path_re(cls, path, fnames, pat, **kwargs):\n",
    "        \"Create from list of `fnames` in `path`s with re expression `pat`\"\n",
    "        return cls.from_path_func(path, fnames, RegexLabeller(pat), **kwargs)\n",
    "\n",
    "    @classmethod\n",
    "    @delegates(DataLoaders.from_dblock)\n",
    "    def from_name_re(cls, path, fnames, pat, **kwargs):\n",
    "        \"Create from the name attrs of `fnames` in `path`s with re expression `pat`\"\n",
    "        return cls.from_name_func(path, fnames, RegexLabeller(pat), **kwargs)\n",
    "\n",
    "    @classmethod\n",
    "    @delegates(DataLoaders.from_dblock)\n",
    "    def from_df(\n",
    "        cls,\n",
    "        df,\n",
    "        path=\".\",\n",
    "        valid_pct=0.2,\n",
    "        seed=None,\n",
    "        fn_col=0,\n",
    "        folder=None,\n",
    "        suff=\"\",\n",
    "        label_col=1,\n",
    "        label_delim=None,\n",
    "        y_block=None,\n",
    "        valid_col=None,\n",
    "        item_tfms=None,\n",
    "        batch_tfms=None,\n",
    "        img_cls=PILImage,\n",
    "        **kwargs,\n",
    "    ):\n",
    "        \"Create from `df` using `fn_col` and `label_col`\"\n",
    "        pref = f\"{Path(path) if folder is None else Path(path)/folder}{os.path.sep}\"\n",
    "        if y_block is None:\n",
    "            is_multi = (\n",
    "                is_listy(label_col) and len(label_col) > 1\n",
    "            ) or label_delim is not None\n",
    "            y_block = MultiCategoryBlock if is_multi else CategoryBlock\n",
    "        splitter = (\n",
    "            RandomSplitter(valid_pct, seed=seed)\n",
    "            if valid_col is None\n",
    "            else ColSplitter(valid_col)\n",
    "        )\n",
    "        dblock = DataBlock(\n",
    "            blocks=(ImageBlock(img_cls), y_block),\n",
    "            get_x=ColReader(fn_col, pref=pref, suff=suff),\n",
    "            get_y=ColReader(label_col, label_delim=label_delim),\n",
    "            splitter=splitter,\n",
    "            item_tfms=item_tfms,\n",
    "            batch_tfms=batch_tfms,\n",
    "        )\n",
    "        return cls.from_dblock(dblock, df, path=path, **kwargs)\n",
    "\n",
    "    @classmethod\n",
    "    def from_csv(\n",
    "        cls, path, csv_fname=\"labels.csv\", header=\"infer\", delimiter=None, **kwargs\n",
    "    ):\n",
    "        \"Create from `path/csv_fname` using `fn_col` and `label_col`\"\n",
    "        df = pd.read_csv(Path(path) / csv_fname, header=header, delimiter=delimiter)\n",
    "        return cls.from_df(df, path=path, **kwargs)\n",
    "\n",
    "    @classmethod\n",
    "    @delegates(DataLoaders.from_dblock)\n",
    "    def from_lists(\n",
    "        cls,\n",
    "        path,\n",
    "        fnames,\n",
    "        labels,\n",
    "        valid_pct=0.2,\n",
    "        seed: int = None,\n",
    "        y_block=None,\n",
    "        item_tfms=None,\n",
    "        batch_tfms=None,\n",
    "        img_cls=PILImage,\n",
    "        **kwargs,\n",
    "    ):\n",
    "        \"Create from list of `fnames` and `labels` in `path`\"\n",
    "        if y_block is None:\n",
    "            y_block = (\n",
    "                MultiCategoryBlock\n",
    "                if is_listy(labels[0]) and len(labels[0]) > 1\n",
    "                else (\n",
    "                    RegressionBlock if isinstance(labels[0], float) else CategoryBlock\n",
    "                )\n",
    "            )\n",
    "        dblock = DataBlock.from_columns(\n",
    "            blocks=(ImageBlock(img_cls), y_block),\n",
    "            splitter=RandomSplitter(valid_pct, seed=seed),\n",
    "            item_tfms=item_tfms,\n",
    "            batch_tfms=batch_tfms,\n",
    "        )\n",
    "        return cls.from_dblock(dblock, (fnames, labels), path=path, **kwargs)\n",
    "\n",
    "\n",
    "ImageDataLoaders.from_csv = delegates(to=ImageDataLoaders.from_df)(\n",
    "    ImageDataLoaders.from_csv\n",
    ")\n",
    "ImageDataLoaders.from_name_func = delegates(to=ImageDataLoaders.from_path_func)(\n",
    "    ImageDataLoaders.from_name_func\n",
    ")\n",
    "ImageDataLoaders.from_path_re = delegates(to=ImageDataLoaders.from_path_func)(\n",
    "    ImageDataLoaders.from_path_re\n",
    ")\n",
    "ImageDataLoaders.from_name_re = delegates(to=ImageDataLoaders.from_name_func)(\n",
    "    ImageDataLoaders.from_name_re\n",
    ")"
   ]
  },
  {
   "cell_type": "markdown",
   "metadata": {},
   "source": [
    "This class should not be used directly, one of the factory methods should be preferred instead. All those factory methods accept as arguments:\n",
    "\n",
    "- `item_tfms`: one or several transforms applied to the items before batching them\n",
    "- `batch_tfms`: one or several transforms applied to the batches once they are formed\n",
    "- `bs`: the batch size\n",
    "- `val_bs`: the batch size for the validation `DataLoader` (defaults to `bs`)\n",
    "- `shuffle_train`: if we shuffle the training `DataLoader` or not\n",
    "- `device`: the PyTorch device to use (defaults to `default_device()`)"
   ]
  },
  {
   "cell_type": "code",
   "execution_count": null,
   "metadata": {},
   "outputs": [
    {
     "data": {
      "text/markdown": [
       "---\n",
       "\n",
       "[source](https://github.com/fastai/fastai/blob/master/fastai/vision/data.py#L112){target=\"_blank\" style=\"float:right; font-size:smaller\"}\n",
       "\n",
       "### ImageDataLoaders.from_folder\n",
       "\n",
       ">      ImageDataLoaders.from_folder (path, train='train', valid='valid',\n",
       ">                                    valid_pct=None, seed=None, vocab=None,\n",
       ">                                    item_tfms=None, batch_tfms=None,\n",
       ">                                    img_cls=<class\n",
       ">                                    'fastai.vision.core.PILImage'>, bs:int=64,\n",
       ">                                    val_bs:int=None, shuffle:bool=True,\n",
       ">                                    device=None)\n",
       "\n",
       "Create from imagenet style dataset in `path` with `train` and `valid` subfolders (or provide `valid_pct`)\n",
       "\n",
       "|    | **Type** | **Default** | **Details** |\n",
       "| -- | -------- | ----------- | ----------- |\n",
       "| path | str \\| Path | . | Path to put in `DataLoaders` |\n",
       "| train | str | train |  |\n",
       "| valid | str | valid |  |\n",
       "| valid_pct | NoneType | None |  |\n",
       "| seed | NoneType | None |  |\n",
       "| vocab | NoneType | None |  |\n",
       "| item_tfms | NoneType | None |  |\n",
       "| batch_tfms | NoneType | None |  |\n",
       "| img_cls | BypassNewMeta | PILImage |  |\n",
       "| bs | int | 64 | Size of batch |\n",
       "| val_bs | int | None | Size of batch for validation `DataLoader` |\n",
       "| shuffle | bool | True | Whether to shuffle data |\n",
       "| device | NoneType | None | Device to put `DataLoaders` |"
      ],
      "text/plain": [
       "---\n",
       "\n",
       "[source](https://github.com/fastai/fastai/blob/master/fastai/vision/data.py#L112){target=\"_blank\" style=\"float:right; font-size:smaller\"}\n",
       "\n",
       "### ImageDataLoaders.from_folder\n",
       "\n",
       ">      ImageDataLoaders.from_folder (path, train='train', valid='valid',\n",
       ">                                    valid_pct=None, seed=None, vocab=None,\n",
       ">                                    item_tfms=None, batch_tfms=None,\n",
       ">                                    img_cls=<class\n",
       ">                                    'fastai.vision.core.PILImage'>, bs:int=64,\n",
       ">                                    val_bs:int=None, shuffle:bool=True,\n",
       ">                                    device=None)\n",
       "\n",
       "Create from imagenet style dataset in `path` with `train` and `valid` subfolders (or provide `valid_pct`)\n",
       "\n",
       "|    | **Type** | **Default** | **Details** |\n",
       "| -- | -------- | ----------- | ----------- |\n",
       "| path | str \\| Path | . | Path to put in `DataLoaders` |\n",
       "| train | str | train |  |\n",
       "| valid | str | valid |  |\n",
       "| valid_pct | NoneType | None |  |\n",
       "| seed | NoneType | None |  |\n",
       "| vocab | NoneType | None |  |\n",
       "| item_tfms | NoneType | None |  |\n",
       "| batch_tfms | NoneType | None |  |\n",
       "| img_cls | BypassNewMeta | PILImage |  |\n",
       "| bs | int | 64 | Size of batch |\n",
       "| val_bs | int | None | Size of batch for validation `DataLoader` |\n",
       "| shuffle | bool | True | Whether to shuffle data |\n",
       "| device | NoneType | None | Device to put `DataLoaders` |"
      ]
     },
     "execution_count": null,
     "metadata": {},
     "output_type": "execute_result"
    }
   ],
   "source": [
    "show_doc(ImageDataLoaders.from_folder)"
   ]
  },
  {
   "cell_type": "markdown",
   "metadata": {},
   "source": [
    "If `valid_pct` is provided, a random split is performed (with an optional `seed`) by setting aside that percentage of the data for the validation set (instead of looking at the grandparents folder). If a `vocab` is passed, only the folders with names in `vocab` are kept.\n",
    "\n",
    "Here is an example loading a subsample of MNIST:"
   ]
  },
  {
   "cell_type": "code",
   "execution_count": null,
   "metadata": {},
   "outputs": [],
   "source": [
    "path = untar_data(URLs.MNIST_TINY)\n",
    "dls = ImageDataLoaders.from_folder(path, img_cls=PILImageBW)"
   ]
  },
  {
   "cell_type": "code",
   "execution_count": null,
   "metadata": {},
   "outputs": [],
   "source": [
    "x, y = dls.one_batch()\n",
    "test_eq(x.shape, [64, 1, 28, 28])"
   ]
  },
  {
   "cell_type": "markdown",
   "metadata": {},
   "source": [
    "Passing `valid_pct` will ignore the valid/train folders and do a new random split:"
   ]
  },
  {
   "cell_type": "code",
   "execution_count": null,
   "metadata": {},
   "outputs": [
    {
     "data": {
      "text/plain": [
       "[Path('/Users/tcapelle/.fastai/data/mnist_tiny/valid/7/7197.png'),\n",
       " Path('/Users/tcapelle/.fastai/data/mnist_tiny/train/3/7339.png'),\n",
       " Path('/Users/tcapelle/.fastai/data/mnist_tiny/valid/3/9656.png')]"
      ]
     },
     "execution_count": null,
     "metadata": {},
     "output_type": "execute_result"
    }
   ],
   "source": [
    "dls = ImageDataLoaders.from_folder(path, valid_pct=0.2)\n",
    "dls.valid_ds.items[:3]"
   ]
  },
  {
   "cell_type": "code",
   "execution_count": null,
   "metadata": {},
   "outputs": [
    {
     "data": {
      "text/markdown": [
       "---\n",
       "\n",
       "[source](https://github.com/fastai/fastai/blob/master/fastai/vision/data.py#L127){target=\"_blank\" style=\"float:right; font-size:smaller\"}\n",
       "\n",
       "### ImageDataLoaders.from_path_func\n",
       "\n",
       ">      ImageDataLoaders.from_path_func (path, fnames, label_func, valid_pct=0.2,\n",
       ">                                       seed=None, item_tfms=None,\n",
       ">                                       batch_tfms=None, img_cls=<class\n",
       ">                                       'fastai.vision.core.PILImage'>,\n",
       ">                                       bs:int=64, val_bs:int=None,\n",
       ">                                       shuffle:bool=True, device=None)\n",
       "\n",
       "Create from list of `fnames` in `path`s with `label_func`\n",
       "\n",
       "|    | **Type** | **Default** | **Details** |\n",
       "| -- | -------- | ----------- | ----------- |\n",
       "| path | str \\| Path | . | Path to put in `DataLoaders` |\n",
       "| fnames |  |  |  |\n",
       "| label_func |  |  |  |\n",
       "| valid_pct | float | 0.2 |  |\n",
       "| seed | NoneType | None |  |\n",
       "| item_tfms | NoneType | None |  |\n",
       "| batch_tfms | NoneType | None |  |\n",
       "| img_cls | BypassNewMeta | PILImage |  |\n",
       "| bs | int | 64 | Size of batch |\n",
       "| val_bs | int | None | Size of batch for validation `DataLoader` |\n",
       "| shuffle | bool | True | Whether to shuffle data |\n",
       "| device | NoneType | None | Device to put `DataLoaders` |"
      ],
      "text/plain": [
       "---\n",
       "\n",
       "[source](https://github.com/fastai/fastai/blob/master/fastai/vision/data.py#L127){target=\"_blank\" style=\"float:right; font-size:smaller\"}\n",
       "\n",
       "### ImageDataLoaders.from_path_func\n",
       "\n",
       ">      ImageDataLoaders.from_path_func (path, fnames, label_func, valid_pct=0.2,\n",
       ">                                       seed=None, item_tfms=None,\n",
       ">                                       batch_tfms=None, img_cls=<class\n",
       ">                                       'fastai.vision.core.PILImage'>,\n",
       ">                                       bs:int=64, val_bs:int=None,\n",
       ">                                       shuffle:bool=True, device=None)\n",
       "\n",
       "Create from list of `fnames` in `path`s with `label_func`\n",
       "\n",
       "|    | **Type** | **Default** | **Details** |\n",
       "| -- | -------- | ----------- | ----------- |\n",
       "| path | str \\| Path | . | Path to put in `DataLoaders` |\n",
       "| fnames |  |  |  |\n",
       "| label_func |  |  |  |\n",
       "| valid_pct | float | 0.2 |  |\n",
       "| seed | NoneType | None |  |\n",
       "| item_tfms | NoneType | None |  |\n",
       "| batch_tfms | NoneType | None |  |\n",
       "| img_cls | BypassNewMeta | PILImage |  |\n",
       "| bs | int | 64 | Size of batch |\n",
       "| val_bs | int | None | Size of batch for validation `DataLoader` |\n",
       "| shuffle | bool | True | Whether to shuffle data |\n",
       "| device | NoneType | None | Device to put `DataLoaders` |"
      ]
     },
     "execution_count": null,
     "metadata": {},
     "output_type": "execute_result"
    }
   ],
   "source": [
    "show_doc(ImageDataLoaders.from_path_func)"
   ]
  },
  {
   "cell_type": "markdown",
   "metadata": {},
   "source": [
    "The validation set is a random `subset` of `valid_pct`, optionally created with `seed` for reproducibility.\n",
    "\n",
    "Here is how to create the same `DataLoaders` on the MNIST dataset as the previous example with a `label_func`:"
   ]
  },
  {
   "cell_type": "code",
   "execution_count": null,
   "metadata": {},
   "outputs": [],
   "source": [
    "fnames = get_image_files(path)\n",
    "\n",
    "\n",
    "def label_func(x):\n",
    "    return x.parent.name\n",
    "\n",
    "\n",
    "dls = ImageDataLoaders.from_path_func(path, fnames, label_func)"
   ]
  },
  {
   "cell_type": "markdown",
   "metadata": {},
   "source": [
    "Here is another example on the pets dataset. Here filenames are all in an \"images\" folder and their names have the form `class_name_123.jpg`. One way to properly label them is thus to throw away everything after the last `_`:"
   ]
  },
  {
   "cell_type": "code",
   "execution_count": null,
   "metadata": {},
   "outputs": [
    {
     "data": {
      "text/markdown": [
       "---\n",
       "\n",
       "[source](https://github.com/fastai/fastai/blob/master/fastai/vision/data.py#L151){target=\"_blank\" style=\"float:right; font-size:smaller\"}\n",
       "\n",
       "### ImageDataLoaders.from_path_re\n",
       "\n",
       ">      ImageDataLoaders.from_path_re (path, fnames, pat, valid_pct=0.2,\n",
       ">                                     seed=None, item_tfms=None,\n",
       ">                                     batch_tfms=None, img_cls=<class\n",
       ">                                     'fastai.vision.core.PILImage'>, bs:int=64,\n",
       ">                                     val_bs:int=None, shuffle:bool=True,\n",
       ">                                     device=None)\n",
       "\n",
       "Create from list of `fnames` in `path`s with re expression `pat`\n",
       "\n",
       "|    | **Type** | **Default** | **Details** |\n",
       "| -- | -------- | ----------- | ----------- |\n",
       "| path | str \\| Path | . | Path to put in `DataLoaders` |\n",
       "| fnames |  |  |  |\n",
       "| pat |  |  |  |\n",
       "| valid_pct | float | 0.2 |  |\n",
       "| seed | NoneType | None |  |\n",
       "| item_tfms | NoneType | None |  |\n",
       "| batch_tfms | NoneType | None |  |\n",
       "| img_cls | BypassNewMeta | PILImage |  |\n",
       "| bs | int | 64 | Size of batch |\n",
       "| val_bs | int | None | Size of batch for validation `DataLoader` |\n",
       "| shuffle | bool | True | Whether to shuffle data |\n",
       "| device | NoneType | None | Device to put `DataLoaders` |"
      ],
      "text/plain": [
       "---\n",
       "\n",
       "[source](https://github.com/fastai/fastai/blob/master/fastai/vision/data.py#L151){target=\"_blank\" style=\"float:right; font-size:smaller\"}\n",
       "\n",
       "### ImageDataLoaders.from_path_re\n",
       "\n",
       ">      ImageDataLoaders.from_path_re (path, fnames, pat, valid_pct=0.2,\n",
       ">                                     seed=None, item_tfms=None,\n",
       ">                                     batch_tfms=None, img_cls=<class\n",
       ">                                     'fastai.vision.core.PILImage'>, bs:int=64,\n",
       ">                                     val_bs:int=None, shuffle:bool=True,\n",
       ">                                     device=None)\n",
       "\n",
       "Create from list of `fnames` in `path`s with re expression `pat`\n",
       "\n",
       "|    | **Type** | **Default** | **Details** |\n",
       "| -- | -------- | ----------- | ----------- |\n",
       "| path | str \\| Path | . | Path to put in `DataLoaders` |\n",
       "| fnames |  |  |  |\n",
       "| pat |  |  |  |\n",
       "| valid_pct | float | 0.2 |  |\n",
       "| seed | NoneType | None |  |\n",
       "| item_tfms | NoneType | None |  |\n",
       "| batch_tfms | NoneType | None |  |\n",
       "| img_cls | BypassNewMeta | PILImage |  |\n",
       "| bs | int | 64 | Size of batch |\n",
       "| val_bs | int | None | Size of batch for validation `DataLoader` |\n",
       "| shuffle | bool | True | Whether to shuffle data |\n",
       "| device | NoneType | None | Device to put `DataLoaders` |"
      ]
     },
     "execution_count": null,
     "metadata": {},
     "output_type": "execute_result"
    }
   ],
   "source": [
    "show_doc(ImageDataLoaders.from_path_re)"
   ]
  },
  {
   "cell_type": "markdown",
   "metadata": {},
   "source": [
    "The validation set is a random subset of `valid_pct`, optionally created with `seed` for reproducibility.\n",
    "\n",
    "Here is how to create the same `DataLoaders` on the MNIST dataset as the previous example (you will need to change the initial two / by a \\ on Windows):"
   ]
  },
  {
   "cell_type": "code",
   "execution_count": null,
   "metadata": {},
   "outputs": [],
   "source": [
    "pat = r\"/([^/]*)/\\d+.png$\"\n",
    "dls = ImageDataLoaders.from_path_re(path, fnames, pat)"
   ]
  },
  {
   "cell_type": "code",
   "execution_count": null,
   "metadata": {},
   "outputs": [
    {
     "data": {
      "text/markdown": [
       "---\n",
       "\n",
       "[source](https://github.com/fastai/fastai/blob/master/fastai/vision/data.py#L137){target=\"_blank\" style=\"float:right; font-size:smaller\"}\n",
       "\n",
       "### ImageDataLoaders.from_name_func\n",
       "\n",
       ">      ImageDataLoaders.from_name_func (path:str|Path, fnames:list,\n",
       ">                                       label_func:callable, valid_pct=0.2,\n",
       ">                                       seed=None, item_tfms=None,\n",
       ">                                       batch_tfms=None, img_cls=<class\n",
       ">                                       'fastai.vision.core.PILImage'>,\n",
       ">                                       bs:int=64, val_bs:int=None,\n",
       ">                                       shuffle:bool=True, device=None)\n",
       "\n",
       "Create from the name attrs of `fnames` in `path`s with `label_func`\n",
       "\n",
       "|    | **Type** | **Default** | **Details** |\n",
       "| -- | -------- | ----------- | ----------- |\n",
       "| path | str \\| Path |  | Set the default path to a directory that a `Learner` can use to save files like models |\n",
       "| fnames | list |  | A list of `os.Pathlike`'s to individual image files |\n",
       "| label_func | callable |  | A function that receives a string (the file name) and outputs a label |\n",
       "| valid_pct | float | 0.2 |  |\n",
       "| seed | NoneType | None |  |\n",
       "| item_tfms | NoneType | None |  |\n",
       "| batch_tfms | NoneType | None |  |\n",
       "| img_cls | BypassNewMeta | PILImage |  |\n",
       "| bs | int | 64 | Size of batch |\n",
       "| val_bs | int | None | Size of batch for validation `DataLoader` |\n",
       "| shuffle | bool | True | Whether to shuffle data |\n",
       "| device | NoneType | None | Device to put `DataLoaders` |\n",
       "| **Returns** | **DataLoaders** |  |  |"
      ],
      "text/plain": [
       "---\n",
       "\n",
       "[source](https://github.com/fastai/fastai/blob/master/fastai/vision/data.py#L137){target=\"_blank\" style=\"float:right; font-size:smaller\"}\n",
       "\n",
       "### ImageDataLoaders.from_name_func\n",
       "\n",
       ">      ImageDataLoaders.from_name_func (path:str|Path, fnames:list,\n",
       ">                                       label_func:callable, valid_pct=0.2,\n",
       ">                                       seed=None, item_tfms=None,\n",
       ">                                       batch_tfms=None, img_cls=<class\n",
       ">                                       'fastai.vision.core.PILImage'>,\n",
       ">                                       bs:int=64, val_bs:int=None,\n",
       ">                                       shuffle:bool=True, device=None)\n",
       "\n",
       "Create from the name attrs of `fnames` in `path`s with `label_func`\n",
       "\n",
       "|    | **Type** | **Default** | **Details** |\n",
       "| -- | -------- | ----------- | ----------- |\n",
       "| path | str \\| Path |  | Set the default path to a directory that a `Learner` can use to save files like models |\n",
       "| fnames | list |  | A list of `os.Pathlike`'s to individual image files |\n",
       "| label_func | callable |  | A function that receives a string (the file name) and outputs a label |\n",
       "| valid_pct | float | 0.2 |  |\n",
       "| seed | NoneType | None |  |\n",
       "| item_tfms | NoneType | None |  |\n",
       "| batch_tfms | NoneType | None |  |\n",
       "| img_cls | BypassNewMeta | PILImage |  |\n",
       "| bs | int | 64 | Size of batch |\n",
       "| val_bs | int | None | Size of batch for validation `DataLoader` |\n",
       "| shuffle | bool | True | Whether to shuffle data |\n",
       "| device | NoneType | None | Device to put `DataLoaders` |\n",
       "| **Returns** | **DataLoaders** |  |  |"
      ]
     },
     "execution_count": null,
     "metadata": {},
     "output_type": "execute_result"
    }
   ],
   "source": [
    "show_doc(ImageDataLoaders.from_name_func)"
   ]
  },
  {
   "cell_type": "markdown",
   "metadata": {},
   "source": [
    "The validation set is a random subset of `valid_pct`, optionally created with `seed` for reproducibility. This method does the same as `ImageDataLoaders.from_path_func` except `label_func` is applied to the name of each filenames, and not the full path."
   ]
  },
  {
   "cell_type": "code",
   "execution_count": null,
   "metadata": {},
   "outputs": [
    {
     "data": {
      "text/markdown": [
       "---\n",
       "\n",
       "[source](https://github.com/fastai/fastai/blob/master/fastai/vision/data.py#L157){target=\"_blank\" style=\"float:right; font-size:smaller\"}\n",
       "\n",
       "### ImageDataLoaders.from_name_re\n",
       "\n",
       ">      ImageDataLoaders.from_name_re (path, fnames, pat, bs:int=64,\n",
       ">                                     val_bs:int=None, shuffle:bool=True,\n",
       ">                                     device=None)\n",
       "\n",
       "Create from the name attrs of `fnames` in `path`s with re expression `pat`\n",
       "\n",
       "|    | **Type** | **Default** | **Details** |\n",
       "| -- | -------- | ----------- | ----------- |\n",
       "| path | str \\| Path | . | Path to put in `DataLoaders` |\n",
       "| fnames |  |  |  |\n",
       "| pat |  |  |  |\n",
       "| bs | int | 64 | Size of batch |\n",
       "| val_bs | int | None | Size of batch for validation `DataLoader` |\n",
       "| shuffle | bool | True | Whether to shuffle data |\n",
       "| device | NoneType | None | Device to put `DataLoaders` |"
      ],
      "text/plain": [
       "---\n",
       "\n",
       "[source](https://github.com/fastai/fastai/blob/master/fastai/vision/data.py#L157){target=\"_blank\" style=\"float:right; font-size:smaller\"}\n",
       "\n",
       "### ImageDataLoaders.from_name_re\n",
       "\n",
       ">      ImageDataLoaders.from_name_re (path, fnames, pat, bs:int=64,\n",
       ">                                     val_bs:int=None, shuffle:bool=True,\n",
       ">                                     device=None)\n",
       "\n",
       "Create from the name attrs of `fnames` in `path`s with re expression `pat`\n",
       "\n",
       "|    | **Type** | **Default** | **Details** |\n",
       "| -- | -------- | ----------- | ----------- |\n",
       "| path | str \\| Path | . | Path to put in `DataLoaders` |\n",
       "| fnames |  |  |  |\n",
       "| pat |  |  |  |\n",
       "| bs | int | 64 | Size of batch |\n",
       "| val_bs | int | None | Size of batch for validation `DataLoader` |\n",
       "| shuffle | bool | True | Whether to shuffle data |\n",
       "| device | NoneType | None | Device to put `DataLoaders` |"
      ]
     },
     "execution_count": null,
     "metadata": {},
     "output_type": "execute_result"
    }
   ],
   "source": [
    "show_doc(ImageDataLoaders.from_name_re)"
   ]
  },
  {
   "cell_type": "markdown",
   "metadata": {},
   "source": [
    "The validation set is a random subset of `valid_pct`, optionally created with `seed` for reproducibility. This method does the same as `ImageDataLoaders.from_path_re` except `pat` is applied to the name of each filenames, and not the full path."
   ]
  },
  {
   "cell_type": "code",
   "execution_count": null,
   "metadata": {},
   "outputs": [
    {
     "data": {
      "text/markdown": [
       "---\n",
       "\n",
       "[source](https://github.com/fastai/fastai/blob/master/fastai/vision/data.py#L163){target=\"_blank\" style=\"float:right; font-size:smaller\"}\n",
       "\n",
       "### ImageDataLoaders.from_df\n",
       "\n",
       ">      ImageDataLoaders.from_df (df, path='.', valid_pct=0.2, seed=None,\n",
       ">                                fn_col=0, folder=None, suff='', label_col=1,\n",
       ">                                label_delim=None, y_block=None, valid_col=None,\n",
       ">                                item_tfms=None, batch_tfms=None, img_cls=<class\n",
       ">                                'fastai.vision.core.PILImage'>, bs:int=64,\n",
       ">                                val_bs:int=None, shuffle:bool=True,\n",
       ">                                device=None)\n",
       "\n",
       "Create from `df` using `fn_col` and `label_col`\n",
       "\n",
       "|    | **Type** | **Default** | **Details** |\n",
       "| -- | -------- | ----------- | ----------- |\n",
       "| df |  |  |  |\n",
       "| path | str \\| Path | . | Path to put in `DataLoaders` |\n",
       "| valid_pct | float | 0.2 |  |\n",
       "| seed | NoneType | None |  |\n",
       "| fn_col | int | 0 |  |\n",
       "| folder | NoneType | None |  |\n",
       "| suff | str |  |  |\n",
       "| label_col | int | 1 |  |\n",
       "| label_delim | NoneType | None |  |\n",
       "| y_block | NoneType | None |  |\n",
       "| valid_col | NoneType | None |  |\n",
       "| item_tfms | NoneType | None |  |\n",
       "| batch_tfms | NoneType | None |  |\n",
       "| img_cls | BypassNewMeta | PILImage |  |\n",
       "| bs | int | 64 | Size of batch |\n",
       "| val_bs | int | None | Size of batch for validation `DataLoader` |\n",
       "| shuffle | bool | True | Whether to shuffle data |\n",
       "| device | NoneType | None | Device to put `DataLoaders` |"
      ],
      "text/plain": [
       "---\n",
       "\n",
       "[source](https://github.com/fastai/fastai/blob/master/fastai/vision/data.py#L163){target=\"_blank\" style=\"float:right; font-size:smaller\"}\n",
       "\n",
       "### ImageDataLoaders.from_df\n",
       "\n",
       ">      ImageDataLoaders.from_df (df, path='.', valid_pct=0.2, seed=None,\n",
       ">                                fn_col=0, folder=None, suff='', label_col=1,\n",
       ">                                label_delim=None, y_block=None, valid_col=None,\n",
       ">                                item_tfms=None, batch_tfms=None, img_cls=<class\n",
       ">                                'fastai.vision.core.PILImage'>, bs:int=64,\n",
       ">                                val_bs:int=None, shuffle:bool=True,\n",
       ">                                device=None)\n",
       "\n",
       "Create from `df` using `fn_col` and `label_col`\n",
       "\n",
       "|    | **Type** | **Default** | **Details** |\n",
       "| -- | -------- | ----------- | ----------- |\n",
       "| df |  |  |  |\n",
       "| path | str \\| Path | . | Path to put in `DataLoaders` |\n",
       "| valid_pct | float | 0.2 |  |\n",
       "| seed | NoneType | None |  |\n",
       "| fn_col | int | 0 |  |\n",
       "| folder | NoneType | None |  |\n",
       "| suff | str |  |  |\n",
       "| label_col | int | 1 |  |\n",
       "| label_delim | NoneType | None |  |\n",
       "| y_block | NoneType | None |  |\n",
       "| valid_col | NoneType | None |  |\n",
       "| item_tfms | NoneType | None |  |\n",
       "| batch_tfms | NoneType | None |  |\n",
       "| img_cls | BypassNewMeta | PILImage |  |\n",
       "| bs | int | 64 | Size of batch |\n",
       "| val_bs | int | None | Size of batch for validation `DataLoader` |\n",
       "| shuffle | bool | True | Whether to shuffle data |\n",
       "| device | NoneType | None | Device to put `DataLoaders` |"
      ]
     },
     "execution_count": null,
     "metadata": {},
     "output_type": "execute_result"
    }
   ],
   "source": [
    "show_doc(ImageDataLoaders.from_df)"
   ]
  },
  {
   "cell_type": "markdown",
   "metadata": {},
   "source": [
    "The validation set is a random subset of `valid_pct`, optionally created with `seed` for reproducibility. Alternatively, if your `df` contains a `valid_col`, give its name or its index to that argument (the column should have `True` for the elements going to the validation set). \n",
    "\n",
    "You can add an additional `folder` to the filenames in `df` if they should not be concatenated directly to `path`. If they do not contain the proper extensions, you can add `suff`. If your label column contains multiple labels on each row, you can use `label_delim` to warn the library you have a multi-label problem. \n",
    "\n",
    "`y_block` should be passed when the task automatically picked by the library is wrong, you should then give `CategoryBlock`, `MultiCategoryBlock` or `RegressionBlock`. For more advanced uses, you should use the data block API.\n",
    "\n",
    "The tiny mnist example from before also contains a version in a dataframe:"
   ]
  },
  {
   "cell_type": "code",
   "execution_count": null,
   "metadata": {},
   "outputs": [
    {
     "data": {
      "text/html": [
       "<div>\n",
       "<style scoped>\n",
       "    .dataframe tbody tr th:only-of-type {\n",
       "        vertical-align: middle;\n",
       "    }\n",
       "\n",
       "    .dataframe tbody tr th {\n",
       "        vertical-align: top;\n",
       "    }\n",
       "\n",
       "    .dataframe thead th {\n",
       "        text-align: right;\n",
       "    }\n",
       "</style>\n",
       "<table border=\"1\" class=\"dataframe\">\n",
       "  <thead>\n",
       "    <tr style=\"text-align: right;\">\n",
       "      <th></th>\n",
       "      <th>name</th>\n",
       "      <th>label</th>\n",
       "    </tr>\n",
       "  </thead>\n",
       "  <tbody>\n",
       "    <tr>\n",
       "      <th>0</th>\n",
       "      <td>train/3/7463.png</td>\n",
       "      <td>3</td>\n",
       "    </tr>\n",
       "    <tr>\n",
       "      <th>1</th>\n",
       "      <td>train/3/9829.png</td>\n",
       "      <td>3</td>\n",
       "    </tr>\n",
       "    <tr>\n",
       "      <th>2</th>\n",
       "      <td>train/3/7881.png</td>\n",
       "      <td>3</td>\n",
       "    </tr>\n",
       "    <tr>\n",
       "      <th>3</th>\n",
       "      <td>train/3/8065.png</td>\n",
       "      <td>3</td>\n",
       "    </tr>\n",
       "    <tr>\n",
       "      <th>4</th>\n",
       "      <td>train/3/7046.png</td>\n",
       "      <td>3</td>\n",
       "    </tr>\n",
       "  </tbody>\n",
       "</table>\n",
       "</div>"
      ],
      "text/plain": [
       "               name  label\n",
       "0  train/3/7463.png      3\n",
       "1  train/3/9829.png      3\n",
       "2  train/3/7881.png      3\n",
       "3  train/3/8065.png      3\n",
       "4  train/3/7046.png      3"
      ]
     },
     "execution_count": null,
     "metadata": {},
     "output_type": "execute_result"
    }
   ],
   "source": [
    "path = untar_data(URLs.MNIST_TINY)\n",
    "df = pd.read_csv(path / \"labels.csv\")\n",
    "df.head()"
   ]
  },
  {
   "cell_type": "markdown",
   "metadata": {},
   "source": [
    "Here is how to load it using `ImageDataLoaders.from_df`:"
   ]
  },
  {
   "cell_type": "code",
   "execution_count": null,
   "metadata": {},
   "outputs": [],
   "source": [
    "dls = ImageDataLoaders.from_df(df, path)"
   ]
  },
  {
   "cell_type": "markdown",
   "metadata": {},
   "source": [
    "Here is another example with a multi-label problem:"
   ]
  },
  {
   "cell_type": "code",
   "execution_count": null,
   "metadata": {},
   "outputs": [
    {
     "name": "stdout",
     "output_type": "stream",
     "text": [
      "Downloading a new version of this dataset...\n"
     ]
    },
    {
     "data": {
      "text/html": [
       "\n",
       "<style>\n",
       "    /* Turns off some styling */\n",
       "    progress {\n",
       "        /* gets rid of default border in Firefox and Opera. */\n",
       "        border: none;\n",
       "        /* Needs to be in here for Safari polyfill so background images work as expected. */\n",
       "        background-size: auto;\n",
       "    }\n",
       "    progress:not([value]), progress:not([value])::-webkit-progress-bar {\n",
       "        background: repeating-linear-gradient(45deg, #7e7e7e, #7e7e7e 10px, #5c5c5c 10px, #5c5c5c 20px);\n",
       "    }\n",
       "    .progress-bar-interrupted, .progress-bar-interrupted::-webkit-progress-bar {\n",
       "        background: #F44336;\n",
       "    }\n",
       "</style>\n"
      ],
      "text/plain": [
       "<IPython.core.display.HTML object>"
      ]
     },
     "metadata": {},
     "output_type": "display_data"
    },
    {
     "data": {
      "text/html": [
       "\n",
       "    <div>\n",
       "      <progress value='1637801984' class='' max='1637796771' style='width:300px; height:20px; vertical-align: middle;'></progress>\n",
       "      100.00% [1637801984/1637796771 02:07&lt;00:00]\n",
       "    </div>\n",
       "    "
      ],
      "text/plain": [
       "<IPython.core.display.HTML object>"
      ]
     },
     "metadata": {},
     "output_type": "display_data"
    },
    {
     "data": {
      "text/html": [
       "<div>\n",
       "<style scoped>\n",
       "    .dataframe tbody tr th:only-of-type {\n",
       "        vertical-align: middle;\n",
       "    }\n",
       "\n",
       "    .dataframe tbody tr th {\n",
       "        vertical-align: top;\n",
       "    }\n",
       "\n",
       "    .dataframe thead th {\n",
       "        text-align: right;\n",
       "    }\n",
       "</style>\n",
       "<table border=\"1\" class=\"dataframe\">\n",
       "  <thead>\n",
       "    <tr style=\"text-align: right;\">\n",
       "      <th></th>\n",
       "      <th>fname</th>\n",
       "      <th>labels</th>\n",
       "      <th>is_valid</th>\n",
       "    </tr>\n",
       "  </thead>\n",
       "  <tbody>\n",
       "    <tr>\n",
       "      <th>0</th>\n",
       "      <td>000005.jpg</td>\n",
       "      <td>chair</td>\n",
       "      <td>True</td>\n",
       "    </tr>\n",
       "    <tr>\n",
       "      <th>1</th>\n",
       "      <td>000007.jpg</td>\n",
       "      <td>car</td>\n",
       "      <td>True</td>\n",
       "    </tr>\n",
       "    <tr>\n",
       "      <th>2</th>\n",
       "      <td>000009.jpg</td>\n",
       "      <td>horse person</td>\n",
       "      <td>True</td>\n",
       "    </tr>\n",
       "    <tr>\n",
       "      <th>3</th>\n",
       "      <td>000012.jpg</td>\n",
       "      <td>car</td>\n",
       "      <td>False</td>\n",
       "    </tr>\n",
       "    <tr>\n",
       "      <th>4</th>\n",
       "      <td>000016.jpg</td>\n",
       "      <td>bicycle</td>\n",
       "      <td>True</td>\n",
       "    </tr>\n",
       "  </tbody>\n",
       "</table>\n",
       "</div>"
      ],
      "text/plain": [
       "        fname        labels  is_valid\n",
       "0  000005.jpg         chair      True\n",
       "1  000007.jpg           car      True\n",
       "2  000009.jpg  horse person      True\n",
       "3  000012.jpg           car     False\n",
       "4  000016.jpg       bicycle      True"
      ]
     },
     "execution_count": null,
     "metadata": {},
     "output_type": "execute_result"
    }
   ],
   "source": [
    "# |eval: false\n",
    "path = untar_data(URLs.PASCAL_2007)\n",
    "df = pd.read_csv(path / \"train.csv\")\n",
    "df.head()"
   ]
  },
  {
   "cell_type": "code",
   "execution_count": null,
   "metadata": {},
   "outputs": [],
   "source": [
    "# |eval: false\n",
    "dls = ImageDataLoaders.from_df(df, path, folder=\"train\", valid_col=\"is_valid\")"
   ]
  },
  {
   "cell_type": "markdown",
   "metadata": {},
   "source": [
    "Note that can also pass `2` to valid_col (the index, starting with 0)."
   ]
  },
  {
   "cell_type": "code",
   "execution_count": null,
   "metadata": {},
   "outputs": [
    {
     "data": {
      "text/markdown": [
       "---\n",
       "\n",
       "[source](https://github.com/fastai/fastai/blob/master/fastai/vision/data.py#L180){target=\"_blank\" style=\"float:right; font-size:smaller\"}\n",
       "\n",
       "### ImageDataLoaders.from_csv\n",
       "\n",
       ">      ImageDataLoaders.from_csv (path, csv_fname='labels.csv', header='infer',\n",
       ">                                 delimiter=None, valid_pct=0.2, seed=None,\n",
       ">                                 fn_col=0, folder=None, suff='', label_col=1,\n",
       ">                                 label_delim=None, y_block=None,\n",
       ">                                 valid_col=None, item_tfms=None,\n",
       ">                                 batch_tfms=None, img_cls=<class\n",
       ">                                 'fastai.vision.core.PILImage'>, bs:int=64,\n",
       ">                                 val_bs:int=None, shuffle:bool=True,\n",
       ">                                 device=None)\n",
       "\n",
       "Create from `path/csv_fname` using `fn_col` and `label_col`\n",
       "\n",
       "|    | **Type** | **Default** | **Details** |\n",
       "| -- | -------- | ----------- | ----------- |\n",
       "| path | str \\| Path | . | Path to put in `DataLoaders` |\n",
       "| csv_fname | str | labels.csv |  |\n",
       "| header | str | infer |  |\n",
       "| delimiter | NoneType | None |  |\n",
       "| valid_pct | float | 0.2 |  |\n",
       "| seed | NoneType | None |  |\n",
       "| fn_col | int | 0 |  |\n",
       "| folder | NoneType | None |  |\n",
       "| suff | str |  |  |\n",
       "| label_col | int | 1 |  |\n",
       "| label_delim | NoneType | None |  |\n",
       "| y_block | NoneType | None |  |\n",
       "| valid_col | NoneType | None |  |\n",
       "| item_tfms | NoneType | None |  |\n",
       "| batch_tfms | NoneType | None |  |\n",
       "| img_cls | BypassNewMeta | PILImage |  |\n",
       "| bs | int | 64 | Size of batch |\n",
       "| val_bs | int | None | Size of batch for validation `DataLoader` |\n",
       "| shuffle | bool | True | Whether to shuffle data |\n",
       "| device | NoneType | None | Device to put `DataLoaders` |"
      ],
      "text/plain": [
       "---\n",
       "\n",
       "[source](https://github.com/fastai/fastai/blob/master/fastai/vision/data.py#L180){target=\"_blank\" style=\"float:right; font-size:smaller\"}\n",
       "\n",
       "### ImageDataLoaders.from_csv\n",
       "\n",
       ">      ImageDataLoaders.from_csv (path, csv_fname='labels.csv', header='infer',\n",
       ">                                 delimiter=None, valid_pct=0.2, seed=None,\n",
       ">                                 fn_col=0, folder=None, suff='', label_col=1,\n",
       ">                                 label_delim=None, y_block=None,\n",
       ">                                 valid_col=None, item_tfms=None,\n",
       ">                                 batch_tfms=None, img_cls=<class\n",
       ">                                 'fastai.vision.core.PILImage'>, bs:int=64,\n",
       ">                                 val_bs:int=None, shuffle:bool=True,\n",
       ">                                 device=None)\n",
       "\n",
       "Create from `path/csv_fname` using `fn_col` and `label_col`\n",
       "\n",
       "|    | **Type** | **Default** | **Details** |\n",
       "| -- | -------- | ----------- | ----------- |\n",
       "| path | str \\| Path | . | Path to put in `DataLoaders` |\n",
       "| csv_fname | str | labels.csv |  |\n",
       "| header | str | infer |  |\n",
       "| delimiter | NoneType | None |  |\n",
       "| valid_pct | float | 0.2 |  |\n",
       "| seed | NoneType | None |  |\n",
       "| fn_col | int | 0 |  |\n",
       "| folder | NoneType | None |  |\n",
       "| suff | str |  |  |\n",
       "| label_col | int | 1 |  |\n",
       "| label_delim | NoneType | None |  |\n",
       "| y_block | NoneType | None |  |\n",
       "| valid_col | NoneType | None |  |\n",
       "| item_tfms | NoneType | None |  |\n",
       "| batch_tfms | NoneType | None |  |\n",
       "| img_cls | BypassNewMeta | PILImage |  |\n",
       "| bs | int | 64 | Size of batch |\n",
       "| val_bs | int | None | Size of batch for validation `DataLoader` |\n",
       "| shuffle | bool | True | Whether to shuffle data |\n",
       "| device | NoneType | None | Device to put `DataLoaders` |"
      ]
     },
     "execution_count": null,
     "metadata": {},
     "output_type": "execute_result"
    }
   ],
   "source": [
    "show_doc(ImageDataLoaders.from_csv)"
   ]
  },
  {
   "cell_type": "markdown",
   "metadata": {},
   "source": [
    "Same as `ImageDataLoaders.from_df` after loading the file with `header` and `delimiter`.\n",
    "\n",
    "Here is how to load the same dataset as before with this method:"
   ]
  },
  {
   "cell_type": "code",
   "execution_count": null,
   "metadata": {},
   "outputs": [],
   "source": [
    "# |eval: false\n",
    "dls = ImageDataLoaders.from_csv(path, \"train.csv\", folder=\"train\", valid_col=\"is_valid\")"
   ]
  },
  {
   "cell_type": "code",
   "execution_count": null,
   "metadata": {},
   "outputs": [
    {
     "data": {
      "text/markdown": [
       "---\n",
       "\n",
       "[source](https://github.com/fastai/fastai/blob/master/fastai/vision/data.py#L187){target=\"_blank\" style=\"float:right; font-size:smaller\"}\n",
       "\n",
       "### ImageDataLoaders.from_lists\n",
       "\n",
       ">      ImageDataLoaders.from_lists (path, fnames, labels, valid_pct=0.2,\n",
       ">                                   seed:int=None, y_block=None, item_tfms=None,\n",
       ">                                   batch_tfms=None, img_cls=<class\n",
       ">                                   'fastai.vision.core.PILImage'>, bs:int=64,\n",
       ">                                   val_bs:int=None, shuffle:bool=True,\n",
       ">                                   device=None)\n",
       "\n",
       "Create from list of `fnames` and `labels` in `path`\n",
       "\n",
       "|    | **Type** | **Default** | **Details** |\n",
       "| -- | -------- | ----------- | ----------- |\n",
       "| path | str \\| Path | . | Path to put in `DataLoaders` |\n",
       "| fnames |  |  |  |\n",
       "| labels |  |  |  |\n",
       "| valid_pct | float | 0.2 |  |\n",
       "| seed | int | None |  |\n",
       "| y_block | NoneType | None |  |\n",
       "| item_tfms | NoneType | None |  |\n",
       "| batch_tfms | NoneType | None |  |\n",
       "| img_cls | BypassNewMeta | PILImage |  |\n",
       "| bs | int | 64 | Size of batch |\n",
       "| val_bs | int | None | Size of batch for validation `DataLoader` |\n",
       "| shuffle | bool | True | Whether to shuffle data |\n",
       "| device | NoneType | None | Device to put `DataLoaders` |"
      ],
      "text/plain": [
       "---\n",
       "\n",
       "[source](https://github.com/fastai/fastai/blob/master/fastai/vision/data.py#L187){target=\"_blank\" style=\"float:right; font-size:smaller\"}\n",
       "\n",
       "### ImageDataLoaders.from_lists\n",
       "\n",
       ">      ImageDataLoaders.from_lists (path, fnames, labels, valid_pct=0.2,\n",
       ">                                   seed:int=None, y_block=None, item_tfms=None,\n",
       ">                                   batch_tfms=None, img_cls=<class\n",
       ">                                   'fastai.vision.core.PILImage'>, bs:int=64,\n",
       ">                                   val_bs:int=None, shuffle:bool=True,\n",
       ">                                   device=None)\n",
       "\n",
       "Create from list of `fnames` and `labels` in `path`\n",
       "\n",
       "|    | **Type** | **Default** | **Details** |\n",
       "| -- | -------- | ----------- | ----------- |\n",
       "| path | str \\| Path | . | Path to put in `DataLoaders` |\n",
       "| fnames |  |  |  |\n",
       "| labels |  |  |  |\n",
       "| valid_pct | float | 0.2 |  |\n",
       "| seed | int | None |  |\n",
       "| y_block | NoneType | None |  |\n",
       "| item_tfms | NoneType | None |  |\n",
       "| batch_tfms | NoneType | None |  |\n",
       "| img_cls | BypassNewMeta | PILImage |  |\n",
       "| bs | int | 64 | Size of batch |\n",
       "| val_bs | int | None | Size of batch for validation `DataLoader` |\n",
       "| shuffle | bool | True | Whether to shuffle data |\n",
       "| device | NoneType | None | Device to put `DataLoaders` |"
      ]
     },
     "execution_count": null,
     "metadata": {},
     "output_type": "execute_result"
    }
   ],
   "source": [
    "show_doc(ImageDataLoaders.from_lists)"
   ]
  },
  {
   "cell_type": "markdown",
   "metadata": {},
   "source": [
    "The validation set is a random subset of `valid_pct`, optionally created with `seed` for reproducibility. `y_block` can be passed to specify the type of the targets."
   ]
  },
  {
   "cell_type": "code",
   "execution_count": null,
   "metadata": {},
   "outputs": [],
   "source": [
    "path = untar_data(URLs.PETS)\n",
    "fnames = get_image_files(path / \"images\")\n",
    "labels = [\"_\".join(x.name.split(\"_\")[:-1]) for x in fnames]\n",
    "dls = ImageDataLoaders.from_lists(path, fnames, labels)"
   ]
  },
  {
   "cell_type": "code",
   "execution_count": null,
   "metadata": {},
   "outputs": [],
   "source": [
    "# |export\n",
    "class SegmentationDataLoaders(DataLoaders):\n",
    "    \"Basic wrapper around several `DataLoader`s with factory methods for segmentation problems\"\n",
    "\n",
    "    @classmethod\n",
    "    @delegates(DataLoaders.from_dblock)\n",
    "    def from_label_func(\n",
    "        cls,\n",
    "        path,\n",
    "        fnames,\n",
    "        label_func,\n",
    "        valid_pct=0.2,\n",
    "        seed=None,\n",
    "        codes=None,\n",
    "        item_tfms=None,\n",
    "        batch_tfms=None,\n",
    "        img_cls=PILImage,\n",
    "        **kwargs\n",
    "    ):\n",
    "        \"Create from list of `fnames` in `path`s with `label_func`.\"\n",
    "        dblock = DataBlock(\n",
    "            blocks=(ImageBlock(img_cls), MaskBlock(codes=codes)),\n",
    "            splitter=RandomSplitter(valid_pct, seed=seed),\n",
    "            get_y=label_func,\n",
    "            item_tfms=item_tfms,\n",
    "            batch_tfms=batch_tfms,\n",
    "        )\n",
    "        res = cls.from_dblock(dblock, fnames, path=path, **kwargs)\n",
    "        return res"
   ]
  },
  {
   "cell_type": "code",
   "execution_count": null,
   "metadata": {},
   "outputs": [
    {
     "data": {
      "text/markdown": [
       "---\n",
       "\n",
       "[source](https://github.com/fastai/fastai/blob/master/fastai/vision/data.py#L209){target=\"_blank\" style=\"float:right; font-size:smaller\"}\n",
       "\n",
       "### SegmentationDataLoaders.from_label_func\n",
       "\n",
       ">      SegmentationDataLoaders.from_label_func (path, fnames, label_func,\n",
       ">                                               valid_pct=0.2, seed=None,\n",
       ">                                               codes=None, item_tfms=None,\n",
       ">                                               batch_tfms=None, img_cls=<class\n",
       ">                                               'fastai.vision.core.PILImage'>,\n",
       ">                                               bs:int=64, val_bs:int=None,\n",
       ">                                               shuffle:bool=True, device=None)\n",
       "\n",
       "Create from list of `fnames` in `path`s with `label_func`.\n",
       "\n",
       "|    | **Type** | **Default** | **Details** |\n",
       "| -- | -------- | ----------- | ----------- |\n",
       "| path | str \\| Path | . | Path to put in `DataLoaders` |\n",
       "| fnames |  |  |  |\n",
       "| label_func |  |  |  |\n",
       "| valid_pct | float | 0.2 |  |\n",
       "| seed | NoneType | None |  |\n",
       "| codes | NoneType | None |  |\n",
       "| item_tfms | NoneType | None |  |\n",
       "| batch_tfms | NoneType | None |  |\n",
       "| img_cls | BypassNewMeta | PILImage |  |\n",
       "| bs | int | 64 | Size of batch |\n",
       "| val_bs | int | None | Size of batch for validation `DataLoader` |\n",
       "| shuffle | bool | True | Whether to shuffle data |\n",
       "| device | NoneType | None | Device to put `DataLoaders` |"
      ],
      "text/plain": [
       "---\n",
       "\n",
       "[source](https://github.com/fastai/fastai/blob/master/fastai/vision/data.py#L209){target=\"_blank\" style=\"float:right; font-size:smaller\"}\n",
       "\n",
       "### SegmentationDataLoaders.from_label_func\n",
       "\n",
       ">      SegmentationDataLoaders.from_label_func (path, fnames, label_func,\n",
       ">                                               valid_pct=0.2, seed=None,\n",
       ">                                               codes=None, item_tfms=None,\n",
       ">                                               batch_tfms=None, img_cls=<class\n",
       ">                                               'fastai.vision.core.PILImage'>,\n",
       ">                                               bs:int=64, val_bs:int=None,\n",
       ">                                               shuffle:bool=True, device=None)\n",
       "\n",
       "Create from list of `fnames` in `path`s with `label_func`.\n",
       "\n",
       "|    | **Type** | **Default** | **Details** |\n",
       "| -- | -------- | ----------- | ----------- |\n",
       "| path | str \\| Path | . | Path to put in `DataLoaders` |\n",
       "| fnames |  |  |  |\n",
       "| label_func |  |  |  |\n",
       "| valid_pct | float | 0.2 |  |\n",
       "| seed | NoneType | None |  |\n",
       "| codes | NoneType | None |  |\n",
       "| item_tfms | NoneType | None |  |\n",
       "| batch_tfms | NoneType | None |  |\n",
       "| img_cls | BypassNewMeta | PILImage |  |\n",
       "| bs | int | 64 | Size of batch |\n",
       "| val_bs | int | None | Size of batch for validation `DataLoader` |\n",
       "| shuffle | bool | True | Whether to shuffle data |\n",
       "| device | NoneType | None | Device to put `DataLoaders` |"
      ]
     },
     "execution_count": null,
     "metadata": {},
     "output_type": "execute_result"
    }
   ],
   "source": [
    "show_doc(SegmentationDataLoaders.from_label_func)"
   ]
  },
  {
   "cell_type": "markdown",
   "metadata": {},
   "source": [
    "The validation set is a random subset of `valid_pct`, optionally created with `seed` for reproducibility. `codes` contain the mapping index to label."
   ]
  },
  {
   "cell_type": "code",
   "execution_count": null,
   "metadata": {},
   "outputs": [],
   "source": [
    "path = untar_data(URLs.CAMVID_TINY)\n",
    "fnames = get_image_files(path / \"images\")\n",
    "\n",
    "\n",
    "def label_func(x):\n",
    "    return path / \"labels\" / f\"{x.stem}_P{x.suffix}\"\n",
    "\n",
    "\n",
    "codes = np.loadtxt(path / \"codes.txt\", dtype=str)\n",
    "\n",
    "dls = SegmentationDataLoaders.from_label_func(path, fnames, label_func, codes=codes)"
   ]
  },
  {
   "cell_type": "markdown",
   "metadata": {},
   "source": [
    "# Export -"
   ]
  },
  {
   "cell_type": "code",
   "execution_count": null,
   "metadata": {},
   "outputs": [],
   "source": [
    "# |hide\n",
    "from nbdev import nbdev_export\n",
    "\n",
    "nbdev_export()"
   ]
  }
 ],
 "metadata": {
  "jupytext": {
   "split_at_heading": true
  },
  "kernelspec": {
   "display_name": "python3",
   "language": "python",
   "name": "python3"
  }
 },
 "nbformat": 4,
 "nbformat_minor": 4
}
