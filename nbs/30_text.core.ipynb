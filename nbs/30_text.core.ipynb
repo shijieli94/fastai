{
 "cells": [
  {
   "cell_type": "code",
   "execution_count": null,
   "metadata": {},
   "outputs": [],
   "source": [
    "# |hide\n",
    "# | eval: false\n",
    "! [ -e /content ] && pip install -Uqq fastai  # upgrade fastai on colab"
   ]
  },
  {
   "cell_type": "code",
   "execution_count": null,
   "metadata": {},
   "outputs": [],
   "source": [
    "# |export\n",
    "from __future__ import annotations\n",
    "from fastai.torch_basics import *\n",
    "from fastai.data.all import *"
   ]
  },
  {
   "cell_type": "code",
   "execution_count": null,
   "metadata": {},
   "outputs": [],
   "source": [
    "# |hide\n",
    "from nbdev.showdoc import *"
   ]
  },
  {
   "cell_type": "code",
   "execution_count": null,
   "metadata": {},
   "outputs": [],
   "source": [
    "# |default_exp text.core\n",
    "# |default_cls_lvl 3"
   ]
  },
  {
   "cell_type": "markdown",
   "metadata": {},
   "source": [
    "# Text core\n",
    "\n",
    "> Basic function to preprocess text before assembling it in a `DataLoaders`."
   ]
  },
  {
   "cell_type": "code",
   "execution_count": null,
   "metadata": {},
   "outputs": [],
   "source": [
    "# |export\n",
    "import html"
   ]
  },
  {
   "cell_type": "markdown",
   "metadata": {},
   "source": [
    "## Preprocessing rules"
   ]
  },
  {
   "cell_type": "markdown",
   "metadata": {},
   "source": [
    "The following are rules applied to texts before or after it's tokenized."
   ]
  },
  {
   "cell_type": "code",
   "execution_count": null,
   "metadata": {},
   "outputs": [],
   "source": [
    "# |export\n",
    "# special tokens\n",
    "(\n",
    "    UNK,\n",
    "    PAD,\n",
    "    BOS,\n",
    "    EOS,\n",
    "    FLD,\n",
    "    TK_REP,\n",
    "    TK_WREP,\n",
    "    TK_UP,\n",
    "    TK_MAJ,\n",
    ") = \"xxunk xxpad xxbos xxeos xxfld xxrep xxwrep xxup xxmaj\".split()"
   ]
  },
  {
   "cell_type": "code",
   "execution_count": null,
   "metadata": {},
   "outputs": [],
   "source": [
    "# |export\n",
    "_all_ = [\"UNK\", \"PAD\", \"BOS\", \"EOS\", \"FLD\", \"TK_REP\", \"TK_WREP\", \"TK_UP\", \"TK_MAJ\"]"
   ]
  },
  {
   "cell_type": "code",
   "execution_count": null,
   "metadata": {},
   "outputs": [],
   "source": [
    "# |export\n",
    "_re_spec = re.compile(r\"([/#\\\\])\")\n",
    "\n",
    "\n",
    "def spec_add_spaces(t):\n",
    "    \"Add spaces around / and #\"\n",
    "    return _re_spec.sub(r\" \\1 \", t)"
   ]
  },
  {
   "cell_type": "code",
   "execution_count": null,
   "metadata": {},
   "outputs": [],
   "source": [
    "test_eq(spec_add_spaces(\"#fastai\"), \" # fastai\")\n",
    "test_eq(spec_add_spaces(\"/fastai\"), \" / fastai\")\n",
    "test_eq(spec_add_spaces(\"\\\\fastai\"), \" \\\\ fastai\")"
   ]
  },
  {
   "cell_type": "code",
   "execution_count": null,
   "metadata": {},
   "outputs": [],
   "source": [
    "# |export\n",
    "_re_space = re.compile(\" {2,}\")\n",
    "\n",
    "\n",
    "def rm_useless_spaces(t):\n",
    "    \"Remove multiple spaces\"\n",
    "    return _re_space.sub(\" \", t)"
   ]
  },
  {
   "cell_type": "code",
   "execution_count": null,
   "metadata": {},
   "outputs": [],
   "source": [
    "test_eq(rm_useless_spaces(\"a  b   c\"), \"a b c\")"
   ]
  },
  {
   "cell_type": "code",
   "execution_count": null,
   "metadata": {},
   "outputs": [],
   "source": [
    "# |export\n",
    "_re_rep = re.compile(r\"(\\S)(\\1{2,})\")\n",
    "\n",
    "\n",
    "def replace_rep(t):\n",
    "    \"Replace repetitions at the character level: cccc -- TK_REP 4 c\"\n",
    "\n",
    "    def _replace_rep(m):\n",
    "        c, cc = m.groups()\n",
    "        return f\" {TK_REP} {len(cc)+1} {c} \"\n",
    "\n",
    "    return _re_rep.sub(_replace_rep, t)"
   ]
  },
  {
   "cell_type": "markdown",
   "metadata": {},
   "source": [
    "It starts replacing at 3 repetitions of the same character or more."
   ]
  },
  {
   "cell_type": "code",
   "execution_count": null,
   "metadata": {},
   "outputs": [],
   "source": [
    "test_eq(replace_rep(\"aa\"), \"aa\")\n",
    "test_eq(replace_rep(\"aaaa\"), f\" {TK_REP} 4 a \")"
   ]
  },
  {
   "cell_type": "code",
   "execution_count": null,
   "metadata": {},
   "outputs": [],
   "source": [
    "# |export\n",
    "_re_wrep = re.compile(r\"(?:\\s|^)(\\w+)\\s+((?:\\1\\s+)+)\\1(\\s|\\W|$)\")"
   ]
  },
  {
   "cell_type": "code",
   "execution_count": null,
   "metadata": {},
   "outputs": [],
   "source": [
    "# |hide\n",
    "\"\"\"\n",
    "Matches any word repeated at least four times with spaces between them\n",
    "(?:\\s|^)       Non-Capture either a whitespace character or the beginning of text\n",
    "(\\w+)          Capture any alphanumeric character\n",
    "\\s+            One or more whitespace\n",
    "((?:\\1\\s+)+)   Capture a repetition of one or more times \\1 followed by one or more whitespace\n",
    "\\1             Occurrence of \\1\n",
    "(\\s|\\W|$)      Capture last whitespace, non alphanumeric character or end of text\n",
    "\"\"\";"
   ]
  },
  {
   "cell_type": "code",
   "execution_count": null,
   "metadata": {},
   "outputs": [],
   "source": [
    "# |export\n",
    "def replace_wrep(t):\n",
    "    \"Replace word repetitions: word word word word -- TK_WREP 4 word\"\n",
    "\n",
    "    def _replace_wrep(m):\n",
    "        c, cc, e = m.groups()\n",
    "        return f\" {TK_WREP} {len(cc.split())+2} {c} {e}\"\n",
    "\n",
    "    return _re_wrep.sub(_replace_wrep, t)"
   ]
  },
  {
   "cell_type": "markdown",
   "metadata": {},
   "source": [
    "It starts replacing at 3 repetitions of the same word or more."
   ]
  },
  {
   "cell_type": "code",
   "execution_count": null,
   "metadata": {},
   "outputs": [],
   "source": [
    "test_eq(replace_wrep(\"ah ah\"), \"ah ah\")\n",
    "test_eq(replace_wrep(\"ah ah ah\"), f\" {TK_WREP} 3 ah \")\n",
    "test_eq(replace_wrep(\"ah ah   ah  ah\"), f\" {TK_WREP} 4 ah \")\n",
    "test_eq(replace_wrep(\"ah ah ah ah \"), f\" {TK_WREP} 4 ah  \")\n",
    "test_eq(replace_wrep(\"ah ah ah ah.\"), f\" {TK_WREP} 4 ah .\")\n",
    "test_eq(replace_wrep(\"ah ah ahi\"), f\"ah ah ahi\")"
   ]
  },
  {
   "cell_type": "code",
   "execution_count": null,
   "metadata": {},
   "outputs": [],
   "source": [
    "# |export\n",
    "def fix_html(x):\n",
    "    \"Various messy things we've seen in documents\"\n",
    "    x = (\n",
    "        x.replace(\"#39;\", \"'\")\n",
    "        .replace(\"amp;\", \"&\")\n",
    "        .replace(\"#146;\", \"'\")\n",
    "        .replace(\"nbsp;\", \" \")\n",
    "        .replace(\"#36;\", \"$\")\n",
    "        .replace(\"\\\\n\", \"\\n\")\n",
    "        .replace(\"quot;\", \"'\")\n",
    "        .replace(\"<br />\", \"\\n\")\n",
    "        .replace('\\\\\"', '\"')\n",
    "        .replace(\"<unk>\", UNK)\n",
    "        .replace(\" @.@ \", \".\")\n",
    "        .replace(\" @-@ \", \"-\")\n",
    "        .replace(\"...\", \" …\")\n",
    "    )\n",
    "    return html.unescape(x)"
   ]
  },
  {
   "cell_type": "code",
   "execution_count": null,
   "metadata": {},
   "outputs": [],
   "source": [
    "test_eq(fix_html(\"#39;bli#146;\"), \"'bli'\")\n",
    "test_eq(fix_html(\"Sarah amp; Duck...\"), \"Sarah & Duck …\")\n",
    "test_eq(fix_html(\"a nbsp; #36;\"), \"a   $\")\n",
    "test_eq(fix_html('\\\\\" <unk>'), f'\" {UNK}')\n",
    "test_eq(fix_html(\"quot;  @.@  @-@ \"), \"' .-\")\n",
    "test_eq(fix_html(\"<br />text\\\\n\"), \"\\ntext\\n\")"
   ]
  },
  {
   "cell_type": "code",
   "execution_count": null,
   "metadata": {},
   "outputs": [],
   "source": [
    "# |export\n",
    "_re_all_caps = re.compile(r\"(\\s|^)([A-Z]+[^a-z\\s]*)(?=(\\s|$))\")"
   ]
  },
  {
   "cell_type": "code",
   "execution_count": null,
   "metadata": {},
   "outputs": [],
   "source": [
    "# |hide\n",
    "\"\"\"\n",
    "Catches any word in all caps, even with ' or - inside\n",
    "(\\s|^)        Capture either a whitespace or the beginning of text\n",
    "([A-Z]+       Capture one capitalized letter or more...\n",
    "[^a-z\\s]*)    ...followed by anything that's non lowercase or whitespace\n",
    "(?=(\\s|$))    Look ahead for a space or end of text\n",
    "\"\"\";"
   ]
  },
  {
   "cell_type": "code",
   "execution_count": null,
   "metadata": {},
   "outputs": [],
   "source": [
    "# |export\n",
    "def replace_all_caps(t):\n",
    "    \"Replace tokens in ALL CAPS by their lower version and add `TK_UP` before.\"\n",
    "\n",
    "    def _replace_all_caps(m):\n",
    "        tok = f\"{TK_UP} \" if len(m.groups()[1]) > 1 else \"\"\n",
    "        return f\"{m.groups()[0]}{tok}{m.groups()[1].lower()}\"\n",
    "\n",
    "    return _re_all_caps.sub(_replace_all_caps, t)"
   ]
  },
  {
   "cell_type": "code",
   "execution_count": null,
   "metadata": {},
   "outputs": [],
   "source": [
    "test_eq(replace_all_caps(\"I'M SHOUTING\"), f\"{TK_UP} i'm {TK_UP} shouting\")\n",
    "test_eq(replace_all_caps(\"I'm speaking normally\"), \"I'm speaking normally\")\n",
    "test_eq(replace_all_caps(\"I am speaking normally\"), \"i am speaking normally\")"
   ]
  },
  {
   "cell_type": "code",
   "execution_count": null,
   "metadata": {},
   "outputs": [],
   "source": [
    "# |export\n",
    "_re_maj = re.compile(r\"(\\s|^)([A-Z][^A-Z\\s]*)(?=(\\s|$))\")"
   ]
  },
  {
   "cell_type": "code",
   "execution_count": null,
   "metadata": {},
   "outputs": [],
   "source": [
    "# |hide\n",
    "\"\"\"\n",
    "Catches any capitalized word\n",
    "(\\s|^)       Capture either a whitespace or the beginning of text\n",
    "([A-Z]       Capture exactly one capitalized letter...\n",
    "[^A-Z\\s]*)   ...followed by anything that's not uppercase or whitespace\n",
    "(?=(\\s|$))   Look ahead for a space of end of text\n",
    "\"\"\";"
   ]
  },
  {
   "cell_type": "code",
   "execution_count": null,
   "metadata": {},
   "outputs": [],
   "source": [
    "# |export\n",
    "def replace_maj(t):\n",
    "    \"Replace tokens in Sentence Case by their lower version and add `TK_MAJ` before.\"\n",
    "\n",
    "    def _replace_maj(m):\n",
    "        tok = f\"{TK_MAJ} \" if len(m.groups()[1]) > 1 else \"\"\n",
    "        return f\"{m.groups()[0]}{tok}{m.groups()[1].lower()}\"\n",
    "\n",
    "    return _re_maj.sub(_replace_maj, t)"
   ]
  },
  {
   "cell_type": "code",
   "execution_count": null,
   "metadata": {},
   "outputs": [],
   "source": [
    "test_eq(replace_maj(\"Jeremy Howard\"), f\"{TK_MAJ} jeremy {TK_MAJ} howard\")\n",
    "test_eq(\n",
    "    replace_maj(\"I don't think there is any maj here\"),\n",
    "    (\"i don't think there is any maj here\"),\n",
    ")"
   ]
  },
  {
   "cell_type": "code",
   "execution_count": null,
   "metadata": {},
   "outputs": [],
   "source": [
    "# |export\n",
    "def lowercase(t, add_bos=True, add_eos=False):\n",
    "    \"Converts `t` to lowercase\"\n",
    "    return (\n",
    "        (f\"{BOS} \" if add_bos else \"\")\n",
    "        + t.lower().strip()\n",
    "        + (f\" {EOS}\" if add_eos else \"\")\n",
    "    )"
   ]
  },
  {
   "cell_type": "code",
   "execution_count": null,
   "metadata": {},
   "outputs": [],
   "source": [
    "# |export\n",
    "def replace_space(t):\n",
    "    \"Replace embedded spaces in a token with unicode line char to allow for split/join\"\n",
    "    return t.replace(\" \", \"▁\")"
   ]
  },
  {
   "cell_type": "code",
   "execution_count": null,
   "metadata": {},
   "outputs": [],
   "source": [
    "# |export\n",
    "defaults.text_spec_tok = [UNK, PAD, BOS, EOS, FLD, TK_REP, TK_WREP, TK_UP, TK_MAJ]\n",
    "defaults.text_proc_rules = [\n",
    "    fix_html,\n",
    "    replace_rep,\n",
    "    replace_wrep,\n",
    "    spec_add_spaces,\n",
    "    rm_useless_spaces,\n",
    "    replace_all_caps,\n",
    "    replace_maj,\n",
    "    lowercase,\n",
    "]\n",
    "defaults.text_postproc_rules = [replace_space]"
   ]
  },
  {
   "cell_type": "markdown",
   "metadata": {},
   "source": [
    "## Tokenizing"
   ]
  },
  {
   "cell_type": "markdown",
   "metadata": {},
   "source": [
    "A tokenizer is a class that must implement `__call__`. This method receives a iterator of texts and must return a generator with their tokenized versions. Here is the most basic example:"
   ]
  },
  {
   "cell_type": "code",
   "execution_count": null,
   "metadata": {},
   "outputs": [],
   "source": [
    "# |export\n",
    "class BaseTokenizer:\n",
    "    \"Basic tokenizer that just splits on spaces\"\n",
    "\n",
    "    def __init__(self, split_char=\" \", **kwargs):\n",
    "        self.split_char = split_char\n",
    "\n",
    "    def __call__(self, items):\n",
    "        return (t.split(self.split_char) for t in items)"
   ]
  },
  {
   "cell_type": "code",
   "execution_count": null,
   "metadata": {},
   "outputs": [],
   "source": [
    "tok = BaseTokenizer()\n",
    "test_eq(tok([\"This is a text\"]), [[\"This\", \"is\", \"a\", \"text\"]])\n",
    "tok = BaseTokenizer(\"x\")\n",
    "test_eq(tok([\"This is a text\"]), [[\"This is a te\", \"t\"]])"
   ]
  },
  {
   "cell_type": "code",
   "execution_count": null,
   "metadata": {},
   "outputs": [],
   "source": [
    "# |export\n",
    "class SpacyTokenizer:\n",
    "    \"Spacy tokenizer for `lang`\"\n",
    "\n",
    "    def __init__(self, lang=\"en\", special_toks=None, buf_sz=5000):\n",
    "        import spacy\n",
    "        from spacy.symbols import ORTH\n",
    "\n",
    "        self.special_toks = ifnone(special_toks, defaults.text_spec_tok)\n",
    "        nlp = spacy.blank(lang)\n",
    "        for w in self.special_toks:\n",
    "            nlp.tokenizer.add_special_case(w, [{ORTH: w}])\n",
    "        self.pipe, self.buf_sz = nlp.pipe, buf_sz\n",
    "\n",
    "    def __call__(self, items):\n",
    "        return (\n",
    "            L(doc).attrgot(\"text\")\n",
    "            for doc in self.pipe(map(str, items), batch_size=self.buf_sz)\n",
    "        )"
   ]
  },
  {
   "cell_type": "code",
   "execution_count": null,
   "metadata": {},
   "outputs": [],
   "source": [
    "# |export\n",
    "WordTokenizer = SpacyTokenizer"
   ]
  },
  {
   "cell_type": "code",
   "execution_count": null,
   "metadata": {},
   "outputs": [],
   "source": [
    "tok = SpacyTokenizer()\n",
    "inp, exp = \"This isn't the easiest text.\", [\n",
    "    \"This\",\n",
    "    \"is\",\n",
    "    \"n't\",\n",
    "    \"the\",\n",
    "    \"easiest\",\n",
    "    \"text\",\n",
    "    \".\",\n",
    "]\n",
    "test_eq(L(tok([inp, inp])), [exp, exp])"
   ]
  },
  {
   "cell_type": "code",
   "execution_count": null,
   "metadata": {},
   "outputs": [],
   "source": [
    "# |export\n",
    "class TokenizeWithRules:\n",
    "    \"A wrapper around `tok` which applies `rules`, then tokenizes, then applies `post_rules`\"\n",
    "\n",
    "    def __init__(self, tok, rules=None, post_rules=None):\n",
    "        self.rules = L(ifnone(rules, defaults.text_proc_rules))\n",
    "        self.post_f = compose(*L(ifnone(post_rules, defaults.text_postproc_rules)))\n",
    "        self.tok = tok\n",
    "\n",
    "    def __call__(self, batch):\n",
    "        return (L(o).map(self.post_f) for o in self.tok(maps(*self.rules, batch)))"
   ]
  },
  {
   "cell_type": "code",
   "execution_count": null,
   "metadata": {},
   "outputs": [],
   "source": [
    "f = TokenizeWithRules(BaseTokenizer(), rules=[replace_all_caps])\n",
    "test_eq(f([\"THIS isn't a problem\"]), [[TK_UP, \"this\", \"isn't\", \"a\", \"problem\"]])\n",
    "f = TokenizeWithRules(SpacyTokenizer())\n",
    "test_eq(\n",
    "    f([\"This isn't a problem\"]), [[BOS, TK_MAJ, \"this\", \"is\", \"n't\", \"a\", \"problem\"]]\n",
    ")\n",
    "f = TokenizeWithRules(BaseTokenizer(split_char=\"'\"), rules=[])\n",
    "test_eq(f([\"This isn't a problem\"]), [[\"This▁isn\", \"t▁a▁problem\"]])"
   ]
  },
  {
   "cell_type": "markdown",
   "metadata": {},
   "source": [
    "The main function that will be called during one of the processes handling tokenization. It will iterate through the `batch` of texts, apply them `rules` and tokenize them."
   ]
  },
  {
   "cell_type": "code",
   "execution_count": null,
   "metadata": {},
   "outputs": [],
   "source": [
    "texts = [\"this is a text\", \"this is another text\"]\n",
    "tok = TokenizeWithRules(BaseTokenizer(), texts.__getitem__)\n",
    "test_eq(tok([0, 1]), [[\"this\", \"is\", \"a\", \"text\"], [\"this\", \"is\", \"another\", \"text\"]])"
   ]
  },
  {
   "cell_type": "code",
   "execution_count": null,
   "metadata": {},
   "outputs": [],
   "source": [
    "# |export\n",
    "@delegates(TokenizeWithRules)\n",
    "def tokenize1(text, tok, **kwargs):\n",
    "    \"Call `TokenizeWithRules` with a single text\"\n",
    "    return first(TokenizeWithRules(tok=tok, **kwargs)([text]))"
   ]
  },
  {
   "cell_type": "code",
   "execution_count": null,
   "metadata": {},
   "outputs": [],
   "source": [
    "test_eq(\n",
    "    tokenize1(\"This isn't a problem\", SpacyTokenizer()),\n",
    "    [BOS, TK_MAJ, \"this\", \"is\", \"n't\", \"a\", \"problem\"],\n",
    ")\n",
    "test_eq(\n",
    "    tokenize1(\"This isn't a problem\", tok=BaseTokenizer(), rules=[]),\n",
    "    [\"This\", \"isn't\", \"a\", \"problem\"],\n",
    ")"
   ]
  },
  {
   "cell_type": "code",
   "execution_count": null,
   "metadata": {},
   "outputs": [],
   "source": [
    "# |export\n",
    "def parallel_tokenize(items, tok=None, rules=None, n_workers=defaults.cpus, **kwargs):\n",
    "    \"Calls optional `setup` on `tok` before launching `TokenizeWithRules` using `parallel_gen\"\n",
    "    if tok is None:\n",
    "        tok = WordTokenizer()\n",
    "    if hasattr(tok, \"setup\"):\n",
    "        tok.setup(items, rules)\n",
    "    return parallel_gen(\n",
    "        TokenizeWithRules, items, tok=tok, rules=rules, n_workers=n_workers, **kwargs\n",
    "    )"
   ]
  },
  {
   "cell_type": "markdown",
   "metadata": {},
   "source": [
    "Note that since this uses `parallel_gen` behind the scenes, the generator returned contains tuples of indices and results. There is no guarantee that the results are returned in order, so you should sort by the first item of the tuples (the indices) if you need them ordered."
   ]
  },
  {
   "cell_type": "code",
   "execution_count": null,
   "metadata": {},
   "outputs": [
    {
     "data": {
      "text/html": [],
      "text/plain": [
       "<IPython.core.display.HTML object>"
      ]
     },
     "metadata": {},
     "output_type": "display_data"
    }
   ],
   "source": [
    "res = parallel_tokenize([\"0 1\", \"1 2\"], rules=[], n_workers=2)\n",
    "idxs, toks = zip(*L(res).sorted(itemgetter(0)))\n",
    "test_eq(toks, [[\"0\", \"1\"], [\"1\", \"2\"]])"
   ]
  },
  {
   "cell_type": "code",
   "execution_count": null,
   "metadata": {},
   "outputs": [],
   "source": [
    "# |hide\n",
    "res1 = parallel_tokenize([\"0 1\", \"1 2\"], tok=BaseTokenizer(), rules=[], n_workers=0)\n",
    "idxs1, toks1 = zip(*L(res1).sorted(itemgetter(0)))\n",
    "test_eq(toks, toks1)"
   ]
  },
  {
   "cell_type": "markdown",
   "metadata": {},
   "source": [
    "### Tokenize texts in files"
   ]
  },
  {
   "cell_type": "markdown",
   "metadata": {},
   "source": [
    "Preprocessing function for texts in filenames. Tokenized texts will be saved in a similar fashion in a directory suffixed with `_tok` in the parent folder of `path` (override with `output_dir`). This directory is the return value."
   ]
  },
  {
   "cell_type": "code",
   "execution_count": null,
   "metadata": {},
   "outputs": [],
   "source": [
    "# |export\n",
    "fn_counter_pkl = \"counter.pkl\"\n",
    "fn_lengths_pkl = \"lengths.pkl\""
   ]
  },
  {
   "cell_type": "code",
   "execution_count": null,
   "metadata": {},
   "outputs": [],
   "source": [
    "# |export\n",
    "def _tokenize_files(\n",
    "    func,\n",
    "    files,\n",
    "    path,\n",
    "    output_dir=None,\n",
    "    output_names=None,\n",
    "    n_workers=defaults.cpus,\n",
    "    rules=None,\n",
    "    tok=None,\n",
    "    encoding=\"utf8\",\n",
    "    skip_if_exists=False,\n",
    "):\n",
    "    \"Tokenize text `files` in parallel using `n_workers`\"\n",
    "    if tok is None:\n",
    "        tok = WordTokenizer()\n",
    "    output_dir = Path(ifnone(output_dir, path.parent / f\"{path.name}_tok\"))\n",
    "    if skip_if_exists and output_dir.exists():\n",
    "        return output_dir\n",
    "    output_dir.mkdir(exist_ok=True)\n",
    "    if output_names is None:\n",
    "        output_names = L(output_dir / f.relative_to(path) for f in files)\n",
    "    rules = partial(Path.read_text, encoding=encoding) + L(\n",
    "        ifnone(rules, defaults.text_proc_rules.copy())\n",
    "    )\n",
    "\n",
    "    lengths, counter = {}, Counter()\n",
    "    for i, tok in parallel_tokenize(files, tok, rules, n_workers=n_workers):\n",
    "        out = func(i, output_dir)\n",
    "        out.mk_write(\" \".join(tok), encoding=encoding)\n",
    "        lengths[str(files[i].relative_to(path))] = len(tok)\n",
    "        counter.update(tok)\n",
    "\n",
    "    save_pickle(output_dir / fn_lengths_pkl, lengths)\n",
    "    save_pickle(output_dir / fn_counter_pkl, counter)\n",
    "    return output_dir"
   ]
  },
  {
   "cell_type": "code",
   "execution_count": null,
   "metadata": {},
   "outputs": [],
   "source": [
    "# |export\n",
    "@delegates(_tokenize_files)\n",
    "def tokenize_folder(\n",
    "    path, extensions=None, folders=None, output_dir=None, skip_if_exists=True, **kwargs\n",
    "):\n",
    "    \"Tokenize text files in `path` in parallel using `n_workers`\"\n",
    "    path, extensions = Path(path), ifnone(extensions, [\".txt\"])\n",
    "    files = get_files(path, extensions=extensions, recurse=True, folders=folders)\n",
    "\n",
    "    def _f(i, output_dir):\n",
    "        return output_dir / files[i].relative_to(path)\n",
    "\n",
    "    return _tokenize_files(_f, files, path, skip_if_exists=skip_if_exists, **kwargs)"
   ]
  },
  {
   "cell_type": "markdown",
   "metadata": {},
   "source": [
    "The result will be in `output_dir` (defaults to a folder in the same parent directory as `path`, with `_tok` added to `path.name`) with the same structure as in `path`. Tokenized texts for a given file will be in the file having the same name in `output_dir`. Additionally, a file with a .len suffix contains the number of tokens and the count of all words is stored in `output_dir/counter.pkl`.\n",
    "\n",
    "`extensions` will default to `['.txt']` and all text files in `path` are treated unless you specify a list of folders in `include`. `rules` (that defaults to `defaults.text_proc_rules`) are applied to each text before going in the tokenizer."
   ]
  },
  {
   "cell_type": "code",
   "execution_count": null,
   "metadata": {},
   "outputs": [],
   "source": [
    "# |export\n",
    "@delegates(_tokenize_files)\n",
    "def tokenize_files(files, path, output_dir, output_names=None, **kwargs):\n",
    "    \"Tokenize text `files` in parallel using `n_workers`\"\n",
    "    if output_names is None:\n",
    "        output_names = L(output_dir / f.relative_to(path) for f in files)\n",
    "\n",
    "    def _f(i, output_dir):\n",
    "        return output_dir / output_names[i]\n",
    "\n",
    "    return _tokenize_files(_f, files, path, output_dir=output_dir, **kwargs)"
   ]
  },
  {
   "cell_type": "markdown",
   "metadata": {},
   "source": [
    "### Tokenize texts in a dataframe"
   ]
  },
  {
   "cell_type": "code",
   "execution_count": null,
   "metadata": {},
   "outputs": [],
   "source": [
    "# |export\n",
    "def _join_texts(df, mark_fields=False):\n",
    "    \"Join texts in row `idx` of `df`, marking each field with `FLD` if `mark_fields=True`\"\n",
    "    text_col = (f\"{FLD} {1} \" if mark_fields else \"\") + df.iloc[:, 0].astype(str)\n",
    "    for i in range(1, len(df.columns)):\n",
    "        text_col += (f\" {FLD} {i+1} \" if mark_fields else \" \") + df.iloc[:, i].astype(\n",
    "            str\n",
    "        )\n",
    "    return text_col.values"
   ]
  },
  {
   "cell_type": "code",
   "execution_count": null,
   "metadata": {},
   "outputs": [],
   "source": [
    "# |hide\n",
    "texts = [f\"This is an example of text {i}\" for i in range(10)]\n",
    "df = pd.DataFrame({\"text\": texts, \"text1\": texts}, columns=[\"text\", \"text1\"])\n",
    "col = _join_texts(df, mark_fields=True)\n",
    "\n",
    "for i in range(len(df)):\n",
    "    test_eq(\n",
    "        col[i],\n",
    "        f\"{FLD} 1 This is an example of text {i} {FLD} 2 This is an example of text {i}\",\n",
    "    )"
   ]
  },
  {
   "cell_type": "code",
   "execution_count": null,
   "metadata": {},
   "outputs": [],
   "source": [
    "# |export\n",
    "def tokenize_texts(texts, n_workers=defaults.cpus, rules=None, tok=None):\n",
    "    \"Tokenize `texts` in parallel using `n_workers`\"\n",
    "    rules = L(ifnone(rules, defaults.text_proc_rules.copy()))\n",
    "    outputs = (\n",
    "        L(parallel_tokenize(texts, tok=tok, rules=rules, n_workers=n_workers))\n",
    "        .sorted()\n",
    "        .itemgot(1)\n",
    "    )\n",
    "    return outputs"
   ]
  },
  {
   "cell_type": "code",
   "execution_count": null,
   "metadata": {},
   "outputs": [],
   "source": [
    "# |export\n",
    "def tokenize_df(\n",
    "    df,\n",
    "    text_cols,\n",
    "    n_workers=defaults.cpus,\n",
    "    rules=None,\n",
    "    mark_fields=None,\n",
    "    tok=None,\n",
    "    tok_text_col=\"text\",\n",
    "):\n",
    "    \"Tokenize texts in `df[text_cols]` in parallel using `n_workers` and stores them in `df[tok_text_col]`\"\n",
    "    text_cols = [df.columns[c] if isinstance(c, int) else c for c in L(text_cols)]\n",
    "    # mark_fields defaults to False if there is one column of texts, True if there are multiple\n",
    "    if mark_fields is None:\n",
    "        mark_fields = len(text_cols) > 1\n",
    "    rules = L(ifnone(rules, defaults.text_proc_rules.copy()))\n",
    "    texts = _join_texts(df[text_cols], mark_fields=mark_fields)\n",
    "    outputs = (\n",
    "        L(parallel_tokenize(texts, tok, rules, n_workers=n_workers)).sorted().itemgot(1)\n",
    "    )\n",
    "\n",
    "    other_cols = df.columns[~df.columns.isin(text_cols)]\n",
    "    res = df[other_cols].copy()\n",
    "    res[tok_text_col] = outputs\n",
    "    res[f\"{tok_text_col}_length\"] = [len(o) for o in outputs]\n",
    "    return res, Counter(outputs.concat())"
   ]
  },
  {
   "cell_type": "markdown",
   "metadata": {},
   "source": [
    "This function returns a new dataframe with the same non-text columns, a column named text that contains the tokenized texts and a column named text_lengths that contains their respective length. It also returns a counter of all seen words to quickly build a vocabulary afterward.\n",
    "\n",
    "`rules` (that defaults to `defaults.text_proc_rules`) are applied to each text before going in the tokenizer. If `mark_fields` isn't specified, it defaults to `False` when there is a single text column, `True` when there are several. In that case, the texts in each of those columns are joined with `FLD` markers followed by the number of the field."
   ]
  },
  {
   "cell_type": "code",
   "execution_count": null,
   "metadata": {},
   "outputs": [],
   "source": [
    "# |export\n",
    "def tokenize_csv(\n",
    "    fname,\n",
    "    text_cols,\n",
    "    outname=None,\n",
    "    n_workers=4,\n",
    "    rules=None,\n",
    "    mark_fields=None,\n",
    "    tok=None,\n",
    "    header=\"infer\",\n",
    "    chunksize=50000,\n",
    "):\n",
    "    \"Tokenize texts in the `text_cols` of the csv `fname` in parallel using `n_workers`\"\n",
    "    df = pd.read_csv(fname, header=header, chunksize=chunksize)\n",
    "    outname = Path(ifnone(outname, fname.parent / f\"{fname.stem}_tok.csv\"))\n",
    "    cnt = Counter()\n",
    "\n",
    "    for i, dfp in enumerate(df):\n",
    "        out, c = tokenize_df(\n",
    "            dfp,\n",
    "            text_cols,\n",
    "            n_workers=n_workers,\n",
    "            rules=rules,\n",
    "            mark_fields=mark_fields,\n",
    "            tok=tok,\n",
    "        )\n",
    "        out.text = out.text.str.join(\" \")\n",
    "        out.to_csv(\n",
    "            outname, header=(None, header)[i == 0], index=False, mode=(\"a\", \"w\")[i == 0]\n",
    "        )\n",
    "        cnt.update(c)\n",
    "\n",
    "    save_pickle(outname.with_suffix(\".pkl\"), cnt)"
   ]
  },
  {
   "cell_type": "code",
   "execution_count": null,
   "metadata": {},
   "outputs": [],
   "source": [
    "# |export\n",
    "def load_tokenized_csv(fname):\n",
    "    \"Utility function to quickly load a tokenized csv ans the corresponding counter\"\n",
    "    fname = Path(fname)\n",
    "    out = pd.read_csv(fname)\n",
    "    for txt_col in out.columns[1:-1]:\n",
    "        out[txt_col] = tuple(out[txt_col].str.split(\" \"))\n",
    "    return out, load_pickle(fname.with_suffix(\".pkl\"))"
   ]
  },
  {
   "cell_type": "markdown",
   "metadata": {},
   "source": [
    "The result will be written in a new csv file in `outname` (defaults to the same as `fname` with the suffix `_tok.csv`) and will have the same header as the original file, the same non-text columns, a text and a text_lengths column as described in `tokenize_df`.\n",
    "\n",
    "`rules` (that defaults to `defaults.text_proc_rules`) are applied to each text before going in the tokenizer. If `mark_fields` isn't specified, it defaults to `False` when there is a single text column, `True` when there are several. In that case, the texts in each of those columns are joined with `FLD` markers followed by the number of the field.\n",
    "\n",
    "The csv file is opened with `header` and optionally with blocks of `chunksize` at a time. If this argument is passed, each chunk is processed independently and saved in the output file to save memory usage."
   ]
  },
  {
   "cell_type": "code",
   "execution_count": null,
   "metadata": {},
   "outputs": [],
   "source": [
    "def _prepare_texts(tmp_d):\n",
    "    \"Prepare texts in a folder struct in tmp_d, a csv file and returns a dataframe\"\n",
    "    path = Path(tmp_d) / \"tmp\"\n",
    "    path.mkdir()\n",
    "    for d in [\"a\", \"b\", \"c\"]:\n",
    "        (path / d).mkdir()\n",
    "        for i in range(5):\n",
    "            with open(path / d / f\"text{i}.txt\", \"w\") as f:\n",
    "                f.write(f\"This is an example of text {d} {i}\")\n",
    "\n",
    "    texts = [\n",
    "        f\"This is an example of text {d} {i}\" for i in range(5) for d in [\"a\", \"b\", \"c\"]\n",
    "    ]\n",
    "    df = pd.DataFrame(\n",
    "        {\"text\": texts, \"label\": list(range(15))}, columns=[\"text\", \"label\"]\n",
    "    )\n",
    "    csv_fname = tmp_d / \"input.csv\"\n",
    "    df.to_csv(csv_fname, index=False)\n",
    "    return path, df, csv_fname"
   ]
  },
  {
   "cell_type": "code",
   "execution_count": null,
   "metadata": {},
   "outputs": [
    {
     "data": {
      "text/html": [],
      "text/plain": [
       "<IPython.core.display.HTML object>"
      ]
     },
     "metadata": {},
     "output_type": "display_data"
    },
    {
     "data": {
      "text/html": [],
      "text/plain": [
       "<IPython.core.display.HTML object>"
      ]
     },
     "metadata": {},
     "output_type": "display_data"
    },
    {
     "data": {
      "text/html": [],
      "text/plain": [
       "<IPython.core.display.HTML object>"
      ]
     },
     "metadata": {},
     "output_type": "display_data"
    },
    {
     "data": {
      "text/html": [],
      "text/plain": [
       "<IPython.core.display.HTML object>"
      ]
     },
     "metadata": {},
     "output_type": "display_data"
    },
    {
     "data": {
      "text/html": [],
      "text/plain": [
       "<IPython.core.display.HTML object>"
      ]
     },
     "metadata": {},
     "output_type": "display_data"
    }
   ],
   "source": [
    "# |hide\n",
    "# integration test\n",
    "with tempfile.TemporaryDirectory() as tmp_d:\n",
    "    path, df, csv_fname = _prepare_texts(Path(tmp_d))\n",
    "    # Tokenize as folders\n",
    "    tokenize_folder(path)\n",
    "    outp = Path(tmp_d) / \"tmp_tok\"\n",
    "    for d in [\"a\", \"b\", \"c\"]:\n",
    "        p = outp / d\n",
    "        for i in range(5):\n",
    "            test_eq(\n",
    "                (p / f\"text{i}.txt\").read_text(),\n",
    "                \" \".join(\n",
    "                    [\n",
    "                        BOS,\n",
    "                        TK_MAJ,\n",
    "                        \"this\",\n",
    "                        \"is\",\n",
    "                        \"an\",\n",
    "                        \"example\",\n",
    "                        \"of\",\n",
    "                        \"text\",\n",
    "                        d,\n",
    "                        str(i),\n",
    "                    ]\n",
    "                ),\n",
    "            )\n",
    "    cnt_a = load_pickle(outp / fn_counter_pkl)\n",
    "    test_eq(cnt_a[\"this\"], 15)\n",
    "    test_eq(cnt_a[\"a\"], 5)\n",
    "    test_eq(cnt_a[\"0\"], 3)\n",
    "\n",
    "    # Tokenize as files\n",
    "    files = get_text_files(path)\n",
    "    tokenize_files(files, path, output_dir=path / \"d\")\n",
    "    for f in files:\n",
    "        test_eq(\n",
    "            (path / \"d\" / f.relative_to(path)).read_text(),\n",
    "            \" \".join(\n",
    "                [\n",
    "                    BOS,\n",
    "                    TK_MAJ,\n",
    "                    \"this\",\n",
    "                    \"is\",\n",
    "                    \"an\",\n",
    "                    \"example\",\n",
    "                    \"of\",\n",
    "                    \"text\",\n",
    "                    f.parent.name,\n",
    "                    f.name[4],\n",
    "                ]\n",
    "            ),\n",
    "        )\n",
    "\n",
    "    # Tokenize as individual texts\n",
    "    out = tokenize_texts(df[\"text\"].values)\n",
    "    test_eq(\n",
    "        out,\n",
    "        [\n",
    "            (outp / d / f\"text{i}.txt\").read_text().split(\" \")\n",
    "            for i in range(5)\n",
    "            for d in [\"a\", \"b\", \"c\"]\n",
    "        ],\n",
    "    )\n",
    "\n",
    "    # Tokenize as a dataframe\n",
    "    out, cnt_b = tokenize_df(df, text_cols=\"text\")\n",
    "    test_eq(list(out.columns), [\"label\", \"text\", \"text_length\"])\n",
    "    test_eq(out[\"label\"].values, df[\"label\"].values)\n",
    "    test_eq(\n",
    "        list(out[\"text\"]),\n",
    "        [\n",
    "            (outp / d / f\"text{i}.txt\").read_text().split(\" \")\n",
    "            for i in range(5)\n",
    "            for d in [\"a\", \"b\", \"c\"]\n",
    "        ],\n",
    "    )\n",
    "    test_eq(cnt_a, cnt_b)\n",
    "\n",
    "    # Tokenize as a csv\n",
    "    out_fname = Path(tmp_d) / \"output.csv\"\n",
    "    tokenize_csv(csv_fname, text_cols=\"text\", outname=out_fname)\n",
    "    a, b = load_tokenized_csv(out_fname)\n",
    "    test_eq((out, cnt_b), load_tokenized_csv(out_fname))"
   ]
  },
  {
   "cell_type": "markdown",
   "metadata": {},
   "source": [
    "## `Tokenizer`-"
   ]
  },
  {
   "cell_type": "code",
   "execution_count": null,
   "metadata": {},
   "outputs": [],
   "source": [
    "# |export\n",
    "class Tokenizer(Transform):\n",
    "    \"Provides a consistent `Transform` interface to tokenizers operating on `DataFrame`s and folders\"\n",
    "    input_types = (str, list, L, tuple, Path)\n",
    "\n",
    "    def __init__(self, tok, rules=None, counter=None, lengths=None, mode=None, sep=\" \"):\n",
    "        if isinstance(tok, type):\n",
    "            tok = tok()\n",
    "        store_attr(\"tok,counter,lengths,mode,sep\")\n",
    "        self.rules = defaults.text_proc_rules if rules is None else rules\n",
    "\n",
    "    @classmethod\n",
    "    @delegates(tokenize_df, keep=True)\n",
    "    def from_df(cls, text_cols, tok=None, rules=None, sep=\" \", **kwargs):\n",
    "        if tok is None:\n",
    "            tok = WordTokenizer()\n",
    "        res = cls(tok, rules=rules, mode=\"df\")\n",
    "        res.kwargs, res.train_setup = merge({\"tok\": tok}, kwargs), False\n",
    "        res.text_cols, res.sep = text_cols, sep\n",
    "        default_val = inspect.signature(tokenize_df).parameters[\"tok_text_col\"].default\n",
    "        res.tok_text_col = kwargs.get(\"tok_text_col\", default_val)\n",
    "        return res\n",
    "\n",
    "    @classmethod\n",
    "    @delegates(tokenize_folder, keep=True)\n",
    "    def from_folder(cls, path, tok=None, rules=None, **kwargs):\n",
    "        path = Path(path)\n",
    "        if tok is None:\n",
    "            tok = WordTokenizer()\n",
    "        output_dir = tokenize_folder(path, tok=tok, rules=rules, **kwargs)\n",
    "        res = cls(\n",
    "            tok,\n",
    "            counter=load_pickle(output_dir / fn_counter_pkl),\n",
    "            lengths=load_pickle(output_dir / fn_lengths_pkl),\n",
    "            rules=rules,\n",
    "            mode=\"folder\",\n",
    "        )\n",
    "        res.path, res.output_dir = path, output_dir\n",
    "        return res\n",
    "\n",
    "    def setups(self, dsets):\n",
    "        if not self.mode == \"df\" or not isinstance(dsets.items, pd.DataFrame):\n",
    "            return\n",
    "        dsets.items, count = tokenize_df(\n",
    "            dsets.items, self.text_cols, rules=self.rules, **self.kwargs\n",
    "        )\n",
    "        if self.counter is None:\n",
    "            self.counter = count\n",
    "        if self.lengths is None:\n",
    "            self.lengths = dsets.items[f\"{self.tok_text_col}_length\"].values\n",
    "        return dsets\n",
    "\n",
    "    def encodes(self, o: Path):\n",
    "        if self.mode == \"folder\" and str(o).startswith(str(self.path)):\n",
    "            tok = self.output_dir / o.relative_to(self.path)\n",
    "            return L(tok.read_text(encoding=\"UTF-8\").split(\" \"))\n",
    "        else:\n",
    "            return self._tokenize1(o.read_text())\n",
    "\n",
    "    def encodes(self, o: str):\n",
    "        return self._tokenize1(o)\n",
    "\n",
    "    def _tokenize1(self, o):\n",
    "        return first(self.tok([compose(*self.rules)(o)]))\n",
    "\n",
    "    def get_lengths(self, items):\n",
    "        if self.lengths is None:\n",
    "            return None\n",
    "        if self.mode == \"df\":\n",
    "            if (\n",
    "                isinstance(items, pd.DataFrame)\n",
    "                and f\"{self.tok_text_col}_length\" in items.columns\n",
    "            ):\n",
    "                return items[f\"{self.tok_text_col}_length\"].values\n",
    "        if self.mode == \"folder\":\n",
    "            try:\n",
    "                res = [self.lengths[str(Path(i).relative_to(self.path))] for i in items]\n",
    "                if len(res) == len(items):\n",
    "                    return res\n",
    "            except:\n",
    "                return None\n",
    "\n",
    "    def decodes(self, o):\n",
    "        return TitledStr(self.sep.join(o))"
   ]
  },
  {
   "cell_type": "code",
   "execution_count": null,
   "metadata": {},
   "outputs": [
    {
     "data": {
      "text/html": [],
      "text/plain": [
       "<IPython.core.display.HTML object>"
      ]
     },
     "metadata": {},
     "output_type": "display_data"
    },
    {
     "name": "stdout",
     "output_type": "stream",
     "text": [
      "(['xxbos', 'xxmaj', 'this', 'is', 'an', 'example', 'of', 'text', 'b', '0'],)\n"
     ]
    },
    {
     "data": {
      "text/html": [],
      "text/plain": [
       "<IPython.core.display.HTML object>"
      ]
     },
     "metadata": {},
     "output_type": "display_data"
    },
    {
     "name": "stdout",
     "output_type": "stream",
     "text": [
      "('xxbos', 'xxmaj', 'this', 'is', 'an', 'example', 'of', 'text', 'c', '3')\n"
     ]
    }
   ],
   "source": [
    "with tempfile.TemporaryDirectory() as tmp_d:\n",
    "    path, df, csv_fname = _prepare_texts(Path(tmp_d))\n",
    "    items = get_text_files(path)\n",
    "    splits = RandomSplitter()(items)\n",
    "    dsets = Datasets(items, [Tokenizer.from_folder(path)], splits=splits)\n",
    "    print(dsets.train[0])\n",
    "\n",
    "    dsets = Datasets(df, [Tokenizer.from_df(\"text\")], splits=splits)\n",
    "    print(dsets.train[0][0].text)"
   ]
  },
  {
   "cell_type": "code",
   "execution_count": null,
   "metadata": {},
   "outputs": [],
   "source": [
    "tst = test_set(dsets, [\"This is a test\", \"this is another test\"])\n",
    "test_eq(\n",
    "    tst,\n",
    "    [\n",
    "        ([\"xxbos\", \"xxmaj\", \"this\", \"is\", \"a\", \"test\"],),\n",
    "        ([\"xxbos\", \"this\", \"is\", \"another\", \"test\"],),\n",
    "    ],\n",
    ")"
   ]
  },
  {
   "cell_type": "markdown",
   "metadata": {},
   "source": [
    "## Sentencepiece"
   ]
  },
  {
   "cell_type": "code",
   "execution_count": null,
   "metadata": {},
   "outputs": [],
   "source": [
    "# |export\n",
    "eu_langs = [\n",
    "    \"bg\",\n",
    "    \"cs\",\n",
    "    \"da\",\n",
    "    \"de\",\n",
    "    \"el\",\n",
    "    \"en\",\n",
    "    \"es\",\n",
    "    \"et\",\n",
    "    \"fi\",\n",
    "    \"fr\",\n",
    "    \"ga\",\n",
    "    \"hr\",\n",
    "    \"hu\",\n",
    "    \"it\",\n",
    "    \"lt\",\n",
    "    \"lv\",\n",
    "    \"mt\",\n",
    "    \"nl\",\n",
    "    \"pl\",\n",
    "    \"pt\",\n",
    "    \"ro\",\n",
    "    \"sk\",\n",
    "    \"sl\",\n",
    "    \"sv\",\n",
    "]  # all European langs"
   ]
  },
  {
   "cell_type": "code",
   "execution_count": null,
   "metadata": {},
   "outputs": [],
   "source": [
    "# |export\n",
    "class SentencePieceTokenizer:  # TODO: pass the special tokens symbol to sp\n",
    "    \"SentencePiece tokenizer for `lang`\"\n",
    "\n",
    "    def __init__(\n",
    "        self,\n",
    "        lang=\"en\",\n",
    "        special_toks=None,\n",
    "        sp_model=None,\n",
    "        vocab_sz=None,\n",
    "        max_vocab_sz=30000,\n",
    "        model_type=\"unigram\",\n",
    "        char_coverage=None,\n",
    "        cache_dir=\"tmp\",\n",
    "    ):\n",
    "        try:\n",
    "            from sentencepiece import SentencePieceTrainer, SentencePieceProcessor\n",
    "        except ImportError:\n",
    "            raise Exception(\n",
    "                \"sentencepiece module is missing: run `pip install sentencepiece!=0.1.90,!=0.1.91`\"\n",
    "            )\n",
    "        self.sp_model, self.cache_dir = sp_model, Path(cache_dir)\n",
    "        self.vocab_sz, self.max_vocab_sz, self.model_type = (\n",
    "            vocab_sz,\n",
    "            max_vocab_sz,\n",
    "            model_type,\n",
    "        )\n",
    "        self.char_coverage = ifnone(\n",
    "            char_coverage, 0.99999 if lang in eu_langs else 0.9998\n",
    "        )\n",
    "        self.special_toks = ifnone(special_toks, defaults.text_spec_tok)\n",
    "        if sp_model is None:\n",
    "            self.tok = None\n",
    "        else:\n",
    "            self.tok = SentencePieceProcessor()\n",
    "            self.tok.Load(str(sp_model))\n",
    "        os.makedirs(self.cache_dir, exist_ok=True)\n",
    "\n",
    "    def _get_vocab_sz(self, raw_text_path):\n",
    "        cnt = Counter()\n",
    "        with open(raw_text_path, \"r\") as f:\n",
    "            for line in f.readlines():\n",
    "                cnt.update(line.split())\n",
    "                if len(cnt) // 4 > self.max_vocab_sz:\n",
    "                    return self.max_vocab_sz\n",
    "        res = len(cnt) // 4\n",
    "        while res % 8 != 0:\n",
    "            res += 1\n",
    "        return max(res, 29)\n",
    "\n",
    "    def train(self, raw_text_path):\n",
    "        \"Train a sentencepiece tokenizer on `texts` and save it in `path/tmp_dir`\"\n",
    "        from sentencepiece import SentencePieceTrainer\n",
    "\n",
    "        vocab_sz = (\n",
    "            self._get_vocab_sz(raw_text_path)\n",
    "            if self.vocab_sz is None\n",
    "            else self.vocab_sz\n",
    "        )\n",
    "        spec_tokens = [\"\\u2581\" + s for s in self.special_toks]\n",
    "        SentencePieceTrainer.Train(\n",
    "            \" \".join(\n",
    "                [\n",
    "                    f\"--input={raw_text_path} --vocab_size={vocab_sz} --model_prefix={self.cache_dir/'spm'}\",\n",
    "                    f\"--character_coverage={self.char_coverage} --model_type={self.model_type}\",\n",
    "                    f\"--unk_id={len(spec_tokens)} --pad_id=-1 --bos_id=-1 --eos_id=-1 --minloglevel=2\",\n",
    "                    f\"--user_defined_symbols={','.join(spec_tokens)} --hard_vocab_limit=false\",\n",
    "                ]\n",
    "            )\n",
    "        )\n",
    "        raw_text_path.unlink()\n",
    "        return self.cache_dir / \"spm.model\"\n",
    "\n",
    "    def setup(self, items, rules=None):\n",
    "        from sentencepiece import SentencePieceProcessor\n",
    "\n",
    "        if rules is None:\n",
    "            rules = []\n",
    "        if self.tok is not None:\n",
    "            return {\"sp_model\": self.sp_model}\n",
    "        raw_text_path = self.cache_dir / \"texts.out\"\n",
    "        with open(raw_text_path, \"w\") as f:\n",
    "            for t in progress_bar(maps(*rules, items), total=len(items), leave=False):\n",
    "                f.write(f\"{t}\\n\")\n",
    "        sp_model = self.train(raw_text_path)\n",
    "        self.tok = SentencePieceProcessor()\n",
    "        self.tok.Load(str(sp_model))\n",
    "        return {\"sp_model\": sp_model}\n",
    "\n",
    "    def __call__(self, items):\n",
    "        if self.tok is None:\n",
    "            self.setup(items)\n",
    "        for t in items:\n",
    "            yield self.tok.EncodeAsPieces(t)"
   ]
  },
  {
   "cell_type": "code",
   "execution_count": null,
   "metadata": {},
   "outputs": [],
   "source": [
    "# |export\n",
    "SubwordTokenizer = SentencePieceTokenizer"
   ]
  },
  {
   "cell_type": "code",
   "execution_count": null,
   "metadata": {},
   "outputs": [
    {
     "data": {
      "text/html": [],
      "text/plain": [
       "<IPython.core.display.HTML object>"
      ]
     },
     "metadata": {},
     "output_type": "display_data"
    },
    {
     "data": {
      "text/html": [],
      "text/plain": [
       "<IPython.core.display.HTML object>"
      ]
     },
     "metadata": {},
     "output_type": "display_data"
    }
   ],
   "source": [
    "texts = [f\"This is an example of text {i}\" for i in range(10)]\n",
    "df = pd.DataFrame({\"text\": texts, \"label\": list(range(10))}, columns=[\"text\", \"label\"])\n",
    "out, cnt = tokenize_df(\n",
    "    df, text_cols=\"text\", tok=SentencePieceTokenizer(vocab_sz=34), n_workers=1\n",
    ")"
   ]
  },
  {
   "cell_type": "code",
   "execution_count": null,
   "metadata": {},
   "outputs": [
    {
     "data": {
      "text/html": [],
      "text/plain": [
       "<IPython.core.display.HTML object>"
      ]
     },
     "metadata": {},
     "output_type": "display_data"
    },
    {
     "data": {
      "text/html": [],
      "text/plain": [
       "<IPython.core.display.HTML object>"
      ]
     },
     "metadata": {},
     "output_type": "display_data"
    },
    {
     "name": "stdout",
     "output_type": "stream",
     "text": [
      "['▁xx', 'b', 'o', 's', '▁xx', 'm', 'a', 'j', '▁t', 'h', 'i', 's', '▁', 'i', 's', '▁a', 'n', '▁', 'ex', 'a', 'm', 'p', 'l', 'e', '▁', 'o', 'f', '▁t', 'ex', 't', '▁', 'b', '▁', '2']\n"
     ]
    },
    {
     "data": {
      "text/html": [],
      "text/plain": [
       "<IPython.core.display.HTML object>"
      ]
     },
     "metadata": {},
     "output_type": "display_data"
    },
    {
     "name": "stdout",
     "output_type": "stream",
     "text": [
      "['▁xx', 'b', 'o', 's', '▁xx', 'm', 'a', 'j', '▁t', 'h', 'i', 's', '▁', 'i', 's', '▁a', 'n', '▁', 'ex', 'a', 'm', 'p', 'l', 'e', '▁', 'o', 'f', '▁t', 'ex', 't', '▁a', '▁', '4']\n"
     ]
    },
    {
     "name": "stderr",
     "output_type": "stream",
     "text": [
      "/home/jhoward/miniconda3/lib/python3.8/site-packages/numpy/core/_asarray.py:102: VisibleDeprecationWarning: Creating an ndarray from ragged nested sequences (which is a list-or-tuple of lists-or-tuples-or ndarrays with different lengths or shapes) is deprecated. If you meant to do this, you must specify 'dtype=object' when creating the ndarray.\n",
      "  return array(a, dtype, copy=False, order=order)\n"
     ]
    }
   ],
   "source": [
    "with tempfile.TemporaryDirectory() as tmp_d:\n",
    "    path, df, csv_fname = _prepare_texts(Path(tmp_d))\n",
    "    items = get_text_files(path)\n",
    "    splits = RandomSplitter()(items)\n",
    "    tok = SentencePieceTokenizer(special_toks=[])\n",
    "    dsets = Datasets(items, [Tokenizer.from_folder(path, tok=tok)], splits=splits)\n",
    "    print(dsets.train[0][0])\n",
    "\n",
    "with warnings.catch_warnings():\n",
    "    dsets = Datasets(df, [Tokenizer.from_df(\"text\", tok=tok)], splits=splits)\n",
    "    print(dsets.train[0][0].text)"
   ]
  },
  {
   "cell_type": "markdown",
   "metadata": {},
   "source": [
    "## Export -"
   ]
  },
  {
   "cell_type": "code",
   "execution_count": null,
   "metadata": {},
   "outputs": [
    {
     "name": "stdout",
     "output_type": "stream",
     "text": [
      "Converted 00_torch_core.ipynb.\n",
      "Converted 01_layers.ipynb.\n",
      "Converted 01a_losses.ipynb.\n",
      "Converted 02_data.load.ipynb.\n",
      "Converted 03_data.core.ipynb.\n",
      "Converted 04_data.external.ipynb.\n",
      "Converted 05_data.transforms.ipynb.\n",
      "Converted 06_data.block.ipynb.\n",
      "Converted 07_vision.core.ipynb.\n",
      "Converted 08_vision.data.ipynb.\n",
      "Converted 09_vision.augment.ipynb.\n",
      "Converted 09b_vision.utils.ipynb.\n",
      "Converted 09c_vision.widgets.ipynb.\n",
      "Converted 10_tutorial.pets.ipynb.\n",
      "Converted 10b_tutorial.albumentations.ipynb.\n",
      "Converted 11_vision.models.xresnet.ipynb.\n",
      "Converted 12_optimizer.ipynb.\n",
      "Converted 13_callback.core.ipynb.\n",
      "Converted 13a_learner.ipynb.\n",
      "Converted 13b_metrics.ipynb.\n",
      "Converted 14_callback.schedule.ipynb.\n",
      "Converted 14a_callback.data.ipynb.\n",
      "Converted 15_callback.hook.ipynb.\n",
      "Converted 15a_vision.models.unet.ipynb.\n",
      "Converted 16_callback.progress.ipynb.\n",
      "Converted 17_callback.tracker.ipynb.\n",
      "Converted 18_callback.fp16.ipynb.\n",
      "Converted 18a_callback.training.ipynb.\n",
      "Converted 18b_callback.preds.ipynb.\n",
      "Converted 19_callback.mixup.ipynb.\n",
      "Converted 20_interpret.ipynb.\n",
      "Converted 20a_distributed.ipynb.\n",
      "Converted 21_vision.learner.ipynb.\n",
      "Converted 22_tutorial.imagenette.ipynb.\n",
      "Converted 23_tutorial.vision.ipynb.\n",
      "Converted 24_tutorial.image_sequence.ipynb.\n",
      "Converted 24_tutorial.siamese.ipynb.\n",
      "Converted 24_vision.gan.ipynb.\n",
      "Converted 30_text.core.ipynb.\n",
      "Converted 31_text.data.ipynb.\n",
      "Converted 32_text.models.awdlstm.ipynb.\n",
      "Converted 33_text.models.core.ipynb.\n",
      "Converted 34_callback.rnn.ipynb.\n",
      "Converted 35_tutorial.wikitext.ipynb.\n",
      "Converted 36_text.models.qrnn.ipynb.\n",
      "Converted 37_text.learner.ipynb.\n",
      "Converted 38_tutorial.text.ipynb.\n",
      "Converted 39_tutorial.transformers.ipynb.\n",
      "Converted 40_tabular.core.ipynb.\n",
      "Converted 41_tabular.data.ipynb.\n",
      "Converted 42_tabular.model.ipynb.\n",
      "Converted 43_tabular.learner.ipynb.\n",
      "Converted 44_tutorial.tabular.ipynb.\n",
      "Converted 45_collab.ipynb.\n",
      "Converted 46_tutorial.collab.ipynb.\n",
      "Converted 50_tutorial.datablock.ipynb.\n",
      "Converted 60_medical.imaging.ipynb.\n",
      "Converted 61_tutorial.medical_imaging.ipynb.\n",
      "Converted 65_medical.text.ipynb.\n",
      "Converted 70_callback.wandb.ipynb.\n",
      "Converted 71_callback.tensorboard.ipynb.\n",
      "Converted 72_callback.neptune.ipynb.\n",
      "Converted 73_callback.captum.ipynb.\n",
      "Converted 74_callback.azureml.ipynb.\n",
      "Converted 97_test_utils.ipynb.\n",
      "Converted 99_pytorch_doc.ipynb.\n",
      "Converted dev-setup.ipynb.\n",
      "Converted index.ipynb.\n",
      "Converted quick_start.ipynb.\n",
      "Converted tutorial.ipynb.\n"
     ]
    }
   ],
   "source": [
    "# |hide\n",
    "from nbdev import nbdev_export\n",
    "\n",
    "nbdev_export()"
   ]
  },
  {
   "cell_type": "code",
   "execution_count": null,
   "metadata": {},
   "outputs": [],
   "source": []
  }
 ],
 "metadata": {
  "kernelspec": {
   "display_name": "python3",
   "language": "python",
   "name": "python3"
  }
 },
 "nbformat": 4,
 "nbformat_minor": 4
}
